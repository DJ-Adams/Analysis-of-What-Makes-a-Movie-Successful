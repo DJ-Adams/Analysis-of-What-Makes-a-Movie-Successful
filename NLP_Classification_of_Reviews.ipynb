{
 "cells": [
  {
   "cell_type": "markdown",
   "id": "76fa5646-0561-4b89-907d-9b9057bf1ff0",
   "metadata": {
    "id": "76fa5646-0561-4b89-907d-9b9057bf1ff0"
   },
   "source": [
    "# NLP and ML Classification of Reviews\n",
    "- **Darlene Adams**"
   ]
  },
  {
   "cell_type": "markdown",
   "id": "025e572d-2e09-4304-8f7a-25d924242a1f",
   "metadata": {
    "id": "025e572d-2e09-4304-8f7a-25d924242a1f"
   },
   "source": [
    "### Imports / Data Prep"
   ]
  },
  {
   "cell_type": "code",
   "execution_count": 1,
   "id": "158ac66c-3864-4252-a871-52f96bc29eb3",
   "metadata": {
    "id": "158ac66c-3864-4252-a871-52f96bc29eb3"
   },
   "outputs": [],
   "source": [
    "import pandas as pd\n",
    "import joblib\n",
    "from sklearn.pipeline import make_pipeline\n",
    "from sklearn.pipeline import Pipeline\n",
    "from sklearn.feature_extraction.text import CountVectorizer\n",
    "from sklearn.ensemble import RandomForestClassifier\n",
    "from sklearn.model_selection import train_test_split, GridSearchCV\n",
    "\n",
    "from sklearn.metrics import classification_report, ConfusionMatrixDisplay\n",
    "import matplotlib.pyplot as plt\n",
    "import numpy as np\n",
    "import tensorflow as tf\n",
    "from sklearn.preprocessing import LabelEncoder\n",
    "from tensorflow.keras.models import Sequential\n",
    "from tensorflow.keras import layers, optimizers, regularizers\n",
    "# Then run the Enable Deterministic Operations Function\n",
    "tf.config.experimental.enable_op_determinism()\n",
    "# Random Seeds\n",
    "tf.keras.utils.set_random_seed(42)\n",
    "tf.random.set_seed(42)\n",
    "np.random.seed(42)\n"
   ]
  },
  {
   "cell_type": "code",
   "execution_count": 2,
   "id": "-jBnlmh9ndhB",
   "metadata": {
    "id": "-jBnlmh9ndhB"
   },
   "outputs": [
    {
     "name": "stdout",
     "output_type": "stream",
     "text": [
      "Custom_Functions module imported successfully!\n"
     ]
    }
   ],
   "source": [
    "# Adding different sub folder\n",
    "import sys\n",
    "import os\n",
    "\n",
    "# Append the path to the Data folder\n",
    "data_folder_path = os.path.abspath('Data')\n",
    "sys.path.append(data_folder_path)\n",
    "\n",
    "## Load the autoreload extension\n",
    "%load_ext autoreload\n",
    "%autoreload 2\n",
    "\n",
    "try:\n",
    "    import functions as fn\n",
    "    print(\"Custom_Functions module imported successfully!\")\n",
    "except ModuleNotFoundError:\n",
    "    print(f\"Failed to import Custom_Functions module from {data_folder_path}\")"
   ]
  },
  {
   "cell_type": "code",
   "execution_count": 3,
   "id": "e19eb0d7-aac6-41cd-9a58-919093cb3ace",
   "metadata": {
    "id": "e19eb0d7-aac6-41cd-9a58-919093cb3ace",
    "outputId": "7cbccc95-0c1a-46eb-fbdb-0fdde8ec5a45"
   },
   "outputs": [
    {
     "data": {
      "text/html": [
       "<div>\n",
       "<style scoped>\n",
       "    .dataframe tbody tr th:only-of-type {\n",
       "        vertical-align: middle;\n",
       "    }\n",
       "\n",
       "    .dataframe tbody tr th {\n",
       "        vertical-align: top;\n",
       "    }\n",
       "\n",
       "    .dataframe thead th {\n",
       "        text-align: right;\n",
       "    }\n",
       "</style>\n",
       "<table border=\"1\" class=\"dataframe\">\n",
       "  <thead>\n",
       "    <tr style=\"text-align: right;\">\n",
       "      <th></th>\n",
       "      <th>review_id</th>\n",
       "      <th>movie_id</th>\n",
       "      <th>imdb_id</th>\n",
       "      <th>original_title</th>\n",
       "      <th>review</th>\n",
       "      <th>rating</th>\n",
       "      <th>ratings</th>\n",
       "      <th>lower</th>\n",
       "      <th>tokens</th>\n",
       "      <th>tokens_as_strings</th>\n",
       "      <th>clean</th>\n",
       "      <th>lemmas</th>\n",
       "      <th>lemmas-joined</th>\n",
       "      <th>tokens_joined</th>\n",
       "    </tr>\n",
       "  </thead>\n",
       "  <tbody>\n",
       "    <tr>\n",
       "      <th>1</th>\n",
       "      <td>57086ff5c3a3681d29001512</td>\n",
       "      <td>7443</td>\n",
       "      <td>tt0120630</td>\n",
       "      <td>Chicken Run</td>\n",
       "      <td>A guilty pleasure for me personally, as I love...</td>\n",
       "      <td>9.0</td>\n",
       "      <td>high</td>\n",
       "      <td>a guilty pleasure for me personally, as i love...</td>\n",
       "      <td>[a, guilty, pleasure, for, me, personally, ,, ...</td>\n",
       "      <td>a , guilty , pleasure , for , me , personally ...</td>\n",
       "      <td>a  guilty  pleasure  for  me  personally    as...</td>\n",
       "      <td>[guilty, pleasure, personally, love, great, es...</td>\n",
       "      <td>guilty pleasure personally love great escape w...</td>\n",
       "      <td>a guilty pleasure for me personally , as i lov...</td>\n",
       "    </tr>\n",
       "    <tr>\n",
       "      <th>6</th>\n",
       "      <td>57b2d23dc3a36837d7000b14</td>\n",
       "      <td>955</td>\n",
       "      <td>tt0120755</td>\n",
       "      <td>Mission: Impossible II</td>\n",
       "      <td>The first underwhelmed me, but this one straig...</td>\n",
       "      <td>3.0</td>\n",
       "      <td>low</td>\n",
       "      <td>the first underwhelmed me, but this one straig...</td>\n",
       "      <td>[the, first, underwhelmed, me, ,, but, this, o...</td>\n",
       "      <td>the , first , underwhelmed , me , , , but , th...</td>\n",
       "      <td>the  first  underwhelmed  me    but  this  one...</td>\n",
       "      <td>[underwhelme, straightup, bore, course, see, h...</td>\n",
       "      <td>underwhelme straightup bore course see hunt cl...</td>\n",
       "      <td>the first underwhelmed me , but this one strai...</td>\n",
       "    </tr>\n",
       "    <tr>\n",
       "      <th>7</th>\n",
       "      <td>5e9120963679a10018375490</td>\n",
       "      <td>955</td>\n",
       "      <td>tt0120755</td>\n",
       "      <td>Mission: Impossible II</td>\n",
       "      <td>After quite entertainign Mission Impossible I ...</td>\n",
       "      <td>2.0</td>\n",
       "      <td>low</td>\n",
       "      <td>after quite entertainign mission impossible i ...</td>\n",
       "      <td>[after, quite, entertainign, mission, impossib...</td>\n",
       "      <td>after , quite , entertainign , mission , impos...</td>\n",
       "      <td>after  quite  entertainign  mission  impossibl...</td>\n",
       "      <td>[entertainign, mission, impossible, second, in...</td>\n",
       "      <td>entertainign mission impossible second install...</td>\n",
       "      <td>after quite entertainign mission impossible i ...</td>\n",
       "    </tr>\n",
       "    <tr>\n",
       "      <th>15</th>\n",
       "      <td>608e2744d8cc4a0058dc4272</td>\n",
       "      <td>2621</td>\n",
       "      <td>tt0122459</td>\n",
       "      <td>Return to Me</td>\n",
       "      <td>Okay, I will admit I can be a bit of an easy g...</td>\n",
       "      <td>9.0</td>\n",
       "      <td>high</td>\n",
       "      <td>okay, i will admit i can be a bit of an easy g...</td>\n",
       "      <td>[okay, ,, i, will, admit, i, can, be, a, bit, ...</td>\n",
       "      <td>okay , , , i , will , admit , i , can , be , a...</td>\n",
       "      <td>okay    i  will  admit  i  can  be  a  bit  of...</td>\n",
       "      <td>[okay, admit, bit, easy, grader, come, romanti...</td>\n",
       "      <td>okay admit bit easy grader come romantic comed...</td>\n",
       "      <td>okay , i will admit i can be a bit of an easy ...</td>\n",
       "    </tr>\n",
       "    <tr>\n",
       "      <th>20</th>\n",
       "      <td>6409202f0e441900e887a17b</td>\n",
       "      <td>4234</td>\n",
       "      <td>tt0134084</td>\n",
       "      <td>Scream 3</td>\n",
       "      <td>**_Scream 3’s_ lackluster screenplay and unima...</td>\n",
       "      <td>4.0</td>\n",
       "      <td>low</td>\n",
       "      <td>**_scream 3’s_ lackluster screenplay and unima...</td>\n",
       "      <td>[*, *, _scream, 3, ’, s_, lackluster, screenpl...</td>\n",
       "      <td>* , * , _scream , 3 , ’ , s_ , lackluster , sc...</td>\n",
       "      <td>scream  3    s  lackluster  screenplay  an...</td>\n",
       "      <td>[scream, 3, s, lackluster, screenplay, unimagi...</td>\n",
       "      <td>scream 3 s lackluster screenplay unimaginative...</td>\n",
       "      <td>* * _scream 3 ’ s_ lackluster screenplay and u...</td>\n",
       "    </tr>\n",
       "  </tbody>\n",
       "</table>\n",
       "</div>"
      ],
      "text/plain": [
       "                   review_id  movie_id    imdb_id          original_title  \\\n",
       "1   57086ff5c3a3681d29001512      7443  tt0120630             Chicken Run   \n",
       "6   57b2d23dc3a36837d7000b14       955  tt0120755  Mission: Impossible II   \n",
       "7   5e9120963679a10018375490       955  tt0120755  Mission: Impossible II   \n",
       "15  608e2744d8cc4a0058dc4272      2621  tt0122459            Return to Me   \n",
       "20  6409202f0e441900e887a17b      4234  tt0134084                Scream 3   \n",
       "\n",
       "                                               review  rating ratings  \\\n",
       "1   A guilty pleasure for me personally, as I love...     9.0    high   \n",
       "6   The first underwhelmed me, but this one straig...     3.0     low   \n",
       "7   After quite entertainign Mission Impossible I ...     2.0     low   \n",
       "15  Okay, I will admit I can be a bit of an easy g...     9.0    high   \n",
       "20  **_Scream 3’s_ lackluster screenplay and unima...     4.0     low   \n",
       "\n",
       "                                                lower  \\\n",
       "1   a guilty pleasure for me personally, as i love...   \n",
       "6   the first underwhelmed me, but this one straig...   \n",
       "7   after quite entertainign mission impossible i ...   \n",
       "15  okay, i will admit i can be a bit of an easy g...   \n",
       "20  **_scream 3’s_ lackluster screenplay and unima...   \n",
       "\n",
       "                                               tokens  \\\n",
       "1   [a, guilty, pleasure, for, me, personally, ,, ...   \n",
       "6   [the, first, underwhelmed, me, ,, but, this, o...   \n",
       "7   [after, quite, entertainign, mission, impossib...   \n",
       "15  [okay, ,, i, will, admit, i, can, be, a, bit, ...   \n",
       "20  [*, *, _scream, 3, ’, s_, lackluster, screenpl...   \n",
       "\n",
       "                                    tokens_as_strings  \\\n",
       "1   a , guilty , pleasure , for , me , personally ...   \n",
       "6   the , first , underwhelmed , me , , , but , th...   \n",
       "7   after , quite , entertainign , mission , impos...   \n",
       "15  okay , , , i , will , admit , i , can , be , a...   \n",
       "20  * , * , _scream , 3 , ’ , s_ , lackluster , sc...   \n",
       "\n",
       "                                                clean  \\\n",
       "1   a  guilty  pleasure  for  me  personally    as...   \n",
       "6   the  first  underwhelmed  me    but  this  one...   \n",
       "7   after  quite  entertainign  mission  impossibl...   \n",
       "15  okay    i  will  admit  i  can  be  a  bit  of...   \n",
       "20      scream  3    s  lackluster  screenplay  an...   \n",
       "\n",
       "                                               lemmas  \\\n",
       "1   [guilty, pleasure, personally, love, great, es...   \n",
       "6   [underwhelme, straightup, bore, course, see, h...   \n",
       "7   [entertainign, mission, impossible, second, in...   \n",
       "15  [okay, admit, bit, easy, grader, come, romanti...   \n",
       "20  [scream, 3, s, lackluster, screenplay, unimagi...   \n",
       "\n",
       "                                        lemmas-joined  \\\n",
       "1   guilty pleasure personally love great escape w...   \n",
       "6   underwhelme straightup bore course see hunt cl...   \n",
       "7   entertainign mission impossible second install...   \n",
       "15  okay admit bit easy grader come romantic comed...   \n",
       "20  scream 3 s lackluster screenplay unimaginative...   \n",
       "\n",
       "                                        tokens_joined  \n",
       "1   a guilty pleasure for me personally , as i lov...  \n",
       "6   the first underwhelmed me , but this one strai...  \n",
       "7   after quite entertainign mission impossible i ...  \n",
       "15  okay , i will admit i can be a bit of an easy ...  \n",
       "20  * * _scream 3 ’ s_ lackluster screenplay and u...  "
      ]
     },
     "execution_count": 3,
     "metadata": {},
     "output_type": "execute_result"
    }
   ],
   "source": [
    "fpath = 'Data/movie_reviews.joblib'\n",
    "df = joblib.load(fpath)\n",
    "df.head()"
   ]
  },
  {
   "cell_type": "code",
   "execution_count": 4,
   "id": "8eb0f84f-c883-47dd-b571-5c61fee865bc",
   "metadata": {
    "id": "8eb0f84f-c883-47dd-b571-5c61fee865bc",
    "outputId": "b3f92881-ab15-4ea1-8f1f-fd33f936e0a1"
   },
   "outputs": [
    {
     "name": "stdout",
     "output_type": "stream",
     "text": [
      "<class 'pandas.core.frame.DataFrame'>\n",
      "Int64Index: 2419 entries, 1 to 8647\n",
      "Data columns (total 14 columns):\n",
      " #   Column             Non-Null Count  Dtype  \n",
      "---  ------             --------------  -----  \n",
      " 0   review_id          2419 non-null   object \n",
      " 1   movie_id           2419 non-null   int64  \n",
      " 2   imdb_id            2419 non-null   object \n",
      " 3   original_title     2419 non-null   object \n",
      " 4   review             2419 non-null   object \n",
      " 5   rating             2419 non-null   float64\n",
      " 6   ratings            2419 non-null   object \n",
      " 7   lower              2419 non-null   object \n",
      " 8   tokens             2419 non-null   object \n",
      " 9   tokens_as_strings  2419 non-null   object \n",
      " 10  clean              2419 non-null   object \n",
      " 11  lemmas             2419 non-null   object \n",
      " 12  lemmas-joined      2419 non-null   object \n",
      " 13  tokens_joined      2419 non-null   object \n",
      "dtypes: float64(1), int64(1), object(12)\n",
      "memory usage: 283.5+ KB\n"
     ]
    }
   ],
   "source": [
    "df.info()"
   ]
  },
  {
   "cell_type": "code",
   "execution_count": 6,
   "id": "7f7be1c9-b64e-4983-bc30-a317bd9a0aff",
   "metadata": {
    "id": "7f7be1c9-b64e-4983-bc30-a317bd9a0aff",
    "outputId": "71a4afde-8c14-442c-c001-cb277a792cf6"
   },
   "outputs": [
    {
     "data": {
      "text/plain": [
       "0"
      ]
     },
     "execution_count": 6,
     "metadata": {},
     "output_type": "execute_result"
    }
   ],
   "source": [
    "# check for reviews without ratings\n",
    "df['ratings'].isna().sum()"
   ]
  },
  {
   "cell_type": "code",
   "execution_count": 7,
   "id": "9a50a555-69be-4d1f-abcc-0b86ff9bc275",
   "metadata": {
    "id": "9a50a555-69be-4d1f-abcc-0b86ff9bc275",
    "outputId": "bf89619e-d0a1-48e1-c0f6-b189cd7cb322"
   },
   "outputs": [
    {
     "data": {
      "text/plain": [
       "low     1224\n",
       "high    1195\n",
       "Name: ratings, dtype: int64"
      ]
     },
     "execution_count": 7,
     "metadata": {},
     "output_type": "execute_result"
    }
   ],
   "source": [
    "df['ratings'].value_counts()"
   ]
  },
  {
   "cell_type": "code",
   "execution_count": 8,
   "id": "eb881fed-1a40-4d7a-ab6f-a9ec9a2ac443",
   "metadata": {
    "id": "eb881fed-1a40-4d7a-ab6f-a9ec9a2ac443"
   },
   "outputs": [],
   "source": [
    "# assign X and y\n",
    "X = df['review']\n",
    "y = df['ratings']"
   ]
  },
  {
   "cell_type": "code",
   "execution_count": 9,
   "id": "5c0deb29-2968-4d23-a26b-84f8210edcfd",
   "metadata": {
    "id": "5c0deb29-2968-4d23-a26b-84f8210edcfd"
   },
   "outputs": [],
   "source": [
    "# train test split\n",
    "X_train, X_test, y_train, y_test = train_test_split(X,y,test_size=0.25,\n",
    "                                                    random_state=42)"
   ]
  },
  {
   "cell_type": "markdown",
   "id": "c359234b-f0a8-4069-b186-d5acd4ab8913",
   "metadata": {
    "id": "c359234b-f0a8-4069-b186-d5acd4ab8913"
   },
   "source": [
    "### Machine Learning Model"
   ]
  },
  {
   "cell_type": "markdown",
   "id": "a60cd5d6-4462-44f0-9a9a-d453e4598e84",
   "metadata": {
    "id": "a60cd5d6-4462-44f0-9a9a-d453e4598e84"
   },
   "source": [
    "#### SKLEARN"
   ]
  },
  {
   "cell_type": "code",
   "execution_count": 10,
   "id": "acd3c6fe-25c1-44aa-9cec-5cf5f83cd8af",
   "metadata": {
    "id": "acd3c6fe-25c1-44aa-9cec-5cf5f83cd8af",
    "outputId": "4d5a55a4-0548-4c32-8299-7bdfd9db5a7d"
   },
   "outputs": [
    {
     "data": {
      "text/plain": [
       "low     0.505994\n",
       "high    0.494006\n",
       "Name: ratings, dtype: float64"
      ]
     },
     "execution_count": 10,
     "metadata": {},
     "output_type": "execute_result"
    }
   ],
   "source": [
    "# check class balance\n",
    "y.value_counts(normalize=True)"
   ]
  },
  {
   "cell_type": "code",
   "execution_count": 11,
   "id": "9c47aa94-17e3-4e36-9ccf-3a2209de4e53",
   "metadata": {
    "id": "9c47aa94-17e3-4e36-9ccf-3a2209de4e53",
    "outputId": "236f9bf4-1547-4243-8603-1d0d80fb0bfd"
   },
   "outputs": [
    {
     "data": {
      "text/html": [
       "<style>#sk-container-id-1 {color: black;background-color: white;}#sk-container-id-1 pre{padding: 0;}#sk-container-id-1 div.sk-toggleable {background-color: white;}#sk-container-id-1 label.sk-toggleable__label {cursor: pointer;display: block;width: 100%;margin-bottom: 0;padding: 0.3em;box-sizing: border-box;text-align: center;}#sk-container-id-1 label.sk-toggleable__label-arrow:before {content: \"▸\";float: left;margin-right: 0.25em;color: #696969;}#sk-container-id-1 label.sk-toggleable__label-arrow:hover:before {color: black;}#sk-container-id-1 div.sk-estimator:hover label.sk-toggleable__label-arrow:before {color: black;}#sk-container-id-1 div.sk-toggleable__content {max-height: 0;max-width: 0;overflow: hidden;text-align: left;background-color: #f0f8ff;}#sk-container-id-1 div.sk-toggleable__content pre {margin: 0.2em;color: black;border-radius: 0.25em;background-color: #f0f8ff;}#sk-container-id-1 input.sk-toggleable__control:checked~div.sk-toggleable__content {max-height: 200px;max-width: 100%;overflow: auto;}#sk-container-id-1 input.sk-toggleable__control:checked~label.sk-toggleable__label-arrow:before {content: \"▾\";}#sk-container-id-1 div.sk-estimator input.sk-toggleable__control:checked~label.sk-toggleable__label {background-color: #d4ebff;}#sk-container-id-1 div.sk-label input.sk-toggleable__control:checked~label.sk-toggleable__label {background-color: #d4ebff;}#sk-container-id-1 input.sk-hidden--visually {border: 0;clip: rect(1px 1px 1px 1px);clip: rect(1px, 1px, 1px, 1px);height: 1px;margin: -1px;overflow: hidden;padding: 0;position: absolute;width: 1px;}#sk-container-id-1 div.sk-estimator {font-family: monospace;background-color: #f0f8ff;border: 1px dotted black;border-radius: 0.25em;box-sizing: border-box;margin-bottom: 0.5em;}#sk-container-id-1 div.sk-estimator:hover {background-color: #d4ebff;}#sk-container-id-1 div.sk-parallel-item::after {content: \"\";width: 100%;border-bottom: 1px solid gray;flex-grow: 1;}#sk-container-id-1 div.sk-label:hover label.sk-toggleable__label {background-color: #d4ebff;}#sk-container-id-1 div.sk-serial::before {content: \"\";position: absolute;border-left: 1px solid gray;box-sizing: border-box;top: 0;bottom: 0;left: 50%;z-index: 0;}#sk-container-id-1 div.sk-serial {display: flex;flex-direction: column;align-items: center;background-color: white;padding-right: 0.2em;padding-left: 0.2em;position: relative;}#sk-container-id-1 div.sk-item {position: relative;z-index: 1;}#sk-container-id-1 div.sk-parallel {display: flex;align-items: stretch;justify-content: center;background-color: white;position: relative;}#sk-container-id-1 div.sk-item::before, #sk-container-id-1 div.sk-parallel-item::before {content: \"\";position: absolute;border-left: 1px solid gray;box-sizing: border-box;top: 0;bottom: 0;left: 50%;z-index: -1;}#sk-container-id-1 div.sk-parallel-item {display: flex;flex-direction: column;z-index: 1;position: relative;background-color: white;}#sk-container-id-1 div.sk-parallel-item:first-child::after {align-self: flex-end;width: 50%;}#sk-container-id-1 div.sk-parallel-item:last-child::after {align-self: flex-start;width: 50%;}#sk-container-id-1 div.sk-parallel-item:only-child::after {width: 0;}#sk-container-id-1 div.sk-dashed-wrapped {border: 1px dashed gray;margin: 0 0.4em 0.5em 0.4em;box-sizing: border-box;padding-bottom: 0.4em;background-color: white;}#sk-container-id-1 div.sk-label label {font-family: monospace;font-weight: bold;display: inline-block;line-height: 1.2em;}#sk-container-id-1 div.sk-label-container {text-align: center;}#sk-container-id-1 div.sk-container {/* jupyter's `normalize.less` sets `[hidden] { display: none; }` but bootstrap.min.css set `[hidden] { display: none !important; }` so we also need the `!important` here to be able to override the default hidden behavior on the sphinx rendered scikit-learn.org. See: https://github.com/scikit-learn/scikit-learn/issues/21755 */display: inline-block !important;position: relative;}#sk-container-id-1 div.sk-text-repr-fallback {display: none;}</style><div id=\"sk-container-id-1\" class=\"sk-top-container\"><div class=\"sk-text-repr-fallback\"><pre>Pipeline(steps=[(&#x27;vectorizer&#x27;, CountVectorizer(stop_words=&#x27;english&#x27;)),\n",
       "                (&#x27;clf&#x27;, RandomForestClassifier(random_state=42))])</pre><b>In a Jupyter environment, please rerun this cell to show the HTML representation or trust the notebook. <br />On GitHub, the HTML representation is unable to render, please try loading this page with nbviewer.org.</b></div><div class=\"sk-container\" hidden><div class=\"sk-item sk-dashed-wrapped\"><div class=\"sk-label-container\"><div class=\"sk-label sk-toggleable\"><input class=\"sk-toggleable__control sk-hidden--visually\" id=\"sk-estimator-id-1\" type=\"checkbox\" ><label for=\"sk-estimator-id-1\" class=\"sk-toggleable__label sk-toggleable__label-arrow\">Pipeline</label><div class=\"sk-toggleable__content\"><pre>Pipeline(steps=[(&#x27;vectorizer&#x27;, CountVectorizer(stop_words=&#x27;english&#x27;)),\n",
       "                (&#x27;clf&#x27;, RandomForestClassifier(random_state=42))])</pre></div></div></div><div class=\"sk-serial\"><div class=\"sk-item\"><div class=\"sk-estimator sk-toggleable\"><input class=\"sk-toggleable__control sk-hidden--visually\" id=\"sk-estimator-id-2\" type=\"checkbox\" ><label for=\"sk-estimator-id-2\" class=\"sk-toggleable__label sk-toggleable__label-arrow\">CountVectorizer</label><div class=\"sk-toggleable__content\"><pre>CountVectorizer(stop_words=&#x27;english&#x27;)</pre></div></div></div><div class=\"sk-item\"><div class=\"sk-estimator sk-toggleable\"><input class=\"sk-toggleable__control sk-hidden--visually\" id=\"sk-estimator-id-3\" type=\"checkbox\" ><label for=\"sk-estimator-id-3\" class=\"sk-toggleable__label sk-toggleable__label-arrow\">RandomForestClassifier</label><div class=\"sk-toggleable__content\"><pre>RandomForestClassifier(random_state=42)</pre></div></div></div></div></div></div></div>"
      ],
      "text/plain": [
       "Pipeline(steps=[('vectorizer', CountVectorizer(stop_words='english')),\n",
       "                ('clf', RandomForestClassifier(random_state=42))])"
      ]
     },
     "execution_count": 11,
     "metadata": {},
     "output_type": "execute_result"
    }
   ],
   "source": [
    "## Create a pipeline with a vectorizer and classification model.\n",
    "clf_pipe = Pipeline([('vectorizer', CountVectorizer(stop_words='english')),\n",
    "                     ('clf',RandomForestClassifier(random_state=42))])\n",
    "clf_pipe"
   ]
  },
  {
   "cell_type": "code",
   "execution_count": 12,
   "id": "8dd44d92-b287-4f98-a280-9696f4dd1fba",
   "metadata": {
    "id": "8dd44d92-b287-4f98-a280-9696f4dd1fba",
    "outputId": "4ac50f52-5656-44a5-c27e-92bb7b2c2d26"
   },
   "outputs": [
    {
     "data": {
      "text/html": [
       "<style>#sk-container-id-2 {color: black;background-color: white;}#sk-container-id-2 pre{padding: 0;}#sk-container-id-2 div.sk-toggleable {background-color: white;}#sk-container-id-2 label.sk-toggleable__label {cursor: pointer;display: block;width: 100%;margin-bottom: 0;padding: 0.3em;box-sizing: border-box;text-align: center;}#sk-container-id-2 label.sk-toggleable__label-arrow:before {content: \"▸\";float: left;margin-right: 0.25em;color: #696969;}#sk-container-id-2 label.sk-toggleable__label-arrow:hover:before {color: black;}#sk-container-id-2 div.sk-estimator:hover label.sk-toggleable__label-arrow:before {color: black;}#sk-container-id-2 div.sk-toggleable__content {max-height: 0;max-width: 0;overflow: hidden;text-align: left;background-color: #f0f8ff;}#sk-container-id-2 div.sk-toggleable__content pre {margin: 0.2em;color: black;border-radius: 0.25em;background-color: #f0f8ff;}#sk-container-id-2 input.sk-toggleable__control:checked~div.sk-toggleable__content {max-height: 200px;max-width: 100%;overflow: auto;}#sk-container-id-2 input.sk-toggleable__control:checked~label.sk-toggleable__label-arrow:before {content: \"▾\";}#sk-container-id-2 div.sk-estimator input.sk-toggleable__control:checked~label.sk-toggleable__label {background-color: #d4ebff;}#sk-container-id-2 div.sk-label input.sk-toggleable__control:checked~label.sk-toggleable__label {background-color: #d4ebff;}#sk-container-id-2 input.sk-hidden--visually {border: 0;clip: rect(1px 1px 1px 1px);clip: rect(1px, 1px, 1px, 1px);height: 1px;margin: -1px;overflow: hidden;padding: 0;position: absolute;width: 1px;}#sk-container-id-2 div.sk-estimator {font-family: monospace;background-color: #f0f8ff;border: 1px dotted black;border-radius: 0.25em;box-sizing: border-box;margin-bottom: 0.5em;}#sk-container-id-2 div.sk-estimator:hover {background-color: #d4ebff;}#sk-container-id-2 div.sk-parallel-item::after {content: \"\";width: 100%;border-bottom: 1px solid gray;flex-grow: 1;}#sk-container-id-2 div.sk-label:hover label.sk-toggleable__label {background-color: #d4ebff;}#sk-container-id-2 div.sk-serial::before {content: \"\";position: absolute;border-left: 1px solid gray;box-sizing: border-box;top: 0;bottom: 0;left: 50%;z-index: 0;}#sk-container-id-2 div.sk-serial {display: flex;flex-direction: column;align-items: center;background-color: white;padding-right: 0.2em;padding-left: 0.2em;position: relative;}#sk-container-id-2 div.sk-item {position: relative;z-index: 1;}#sk-container-id-2 div.sk-parallel {display: flex;align-items: stretch;justify-content: center;background-color: white;position: relative;}#sk-container-id-2 div.sk-item::before, #sk-container-id-2 div.sk-parallel-item::before {content: \"\";position: absolute;border-left: 1px solid gray;box-sizing: border-box;top: 0;bottom: 0;left: 50%;z-index: -1;}#sk-container-id-2 div.sk-parallel-item {display: flex;flex-direction: column;z-index: 1;position: relative;background-color: white;}#sk-container-id-2 div.sk-parallel-item:first-child::after {align-self: flex-end;width: 50%;}#sk-container-id-2 div.sk-parallel-item:last-child::after {align-self: flex-start;width: 50%;}#sk-container-id-2 div.sk-parallel-item:only-child::after {width: 0;}#sk-container-id-2 div.sk-dashed-wrapped {border: 1px dashed gray;margin: 0 0.4em 0.5em 0.4em;box-sizing: border-box;padding-bottom: 0.4em;background-color: white;}#sk-container-id-2 div.sk-label label {font-family: monospace;font-weight: bold;display: inline-block;line-height: 1.2em;}#sk-container-id-2 div.sk-label-container {text-align: center;}#sk-container-id-2 div.sk-container {/* jupyter's `normalize.less` sets `[hidden] { display: none; }` but bootstrap.min.css set `[hidden] { display: none !important; }` so we also need the `!important` here to be able to override the default hidden behavior on the sphinx rendered scikit-learn.org. See: https://github.com/scikit-learn/scikit-learn/issues/21755 */display: inline-block !important;position: relative;}#sk-container-id-2 div.sk-text-repr-fallback {display: none;}</style><div id=\"sk-container-id-2\" class=\"sk-top-container\"><div class=\"sk-text-repr-fallback\"><pre>Pipeline(steps=[(&#x27;vectorizer&#x27;, CountVectorizer(stop_words=&#x27;english&#x27;)),\n",
       "                (&#x27;clf&#x27;, RandomForestClassifier(random_state=42))])</pre><b>In a Jupyter environment, please rerun this cell to show the HTML representation or trust the notebook. <br />On GitHub, the HTML representation is unable to render, please try loading this page with nbviewer.org.</b></div><div class=\"sk-container\" hidden><div class=\"sk-item sk-dashed-wrapped\"><div class=\"sk-label-container\"><div class=\"sk-label sk-toggleable\"><input class=\"sk-toggleable__control sk-hidden--visually\" id=\"sk-estimator-id-4\" type=\"checkbox\" ><label for=\"sk-estimator-id-4\" class=\"sk-toggleable__label sk-toggleable__label-arrow\">Pipeline</label><div class=\"sk-toggleable__content\"><pre>Pipeline(steps=[(&#x27;vectorizer&#x27;, CountVectorizer(stop_words=&#x27;english&#x27;)),\n",
       "                (&#x27;clf&#x27;, RandomForestClassifier(random_state=42))])</pre></div></div></div><div class=\"sk-serial\"><div class=\"sk-item\"><div class=\"sk-estimator sk-toggleable\"><input class=\"sk-toggleable__control sk-hidden--visually\" id=\"sk-estimator-id-5\" type=\"checkbox\" ><label for=\"sk-estimator-id-5\" class=\"sk-toggleable__label sk-toggleable__label-arrow\">CountVectorizer</label><div class=\"sk-toggleable__content\"><pre>CountVectorizer(stop_words=&#x27;english&#x27;)</pre></div></div></div><div class=\"sk-item\"><div class=\"sk-estimator sk-toggleable\"><input class=\"sk-toggleable__control sk-hidden--visually\" id=\"sk-estimator-id-6\" type=\"checkbox\" ><label for=\"sk-estimator-id-6\" class=\"sk-toggleable__label sk-toggleable__label-arrow\">RandomForestClassifier</label><div class=\"sk-toggleable__content\"><pre>RandomForestClassifier(random_state=42)</pre></div></div></div></div></div></div></div>"
      ],
      "text/plain": [
       "Pipeline(steps=[('vectorizer', CountVectorizer(stop_words='english')),\n",
       "                ('clf', RandomForestClassifier(random_state=42))])"
      ]
     },
     "execution_count": 12,
     "metadata": {},
     "output_type": "execute_result"
    }
   ],
   "source": [
    "# fit model pipeline\n",
    "clf_pipe.fit(X_train, y_train)"
   ]
  },
  {
   "cell_type": "code",
   "execution_count": 13,
   "id": "d7799dc4-dee2-4df4-9166-236e9e48302c",
   "metadata": {
    "id": "d7799dc4-dee2-4df4-9166-236e9e48302c",
    "outputId": "551b5ab0-1b50-44ad-eb1c-6ce8917f7bc7"
   },
   "outputs": [
    {
     "name": "stdout",
     "output_type": "stream",
     "text": [
      "----------------------------------------------------------------------\n",
      " Classification Metrics: Training Data\n",
      "----------------------------------------------------------------------\n",
      "              precision    recall  f1-score   support\n",
      "\n",
      "        high       1.00      1.00      1.00       888\n",
      "         low       1.00      1.00      1.00       926\n",
      "\n",
      "    accuracy                           1.00      1814\n",
      "   macro avg       1.00      1.00      1.00      1814\n",
      "weighted avg       1.00      1.00      1.00      1814\n",
      "\n"
     ]
    },
    {
     "data": {
      "image/png": "[encoded data removed]",
      "text/plain": [
       "<Figure size 600x400 with 2 Axes>"
      ]
     },
     "metadata": {},
     "output_type": "display_data"
    },
    {
     "name": "stdout",
     "output_type": "stream",
     "text": [
      "\n",
      "----------------------------------------------------------------------\n",
      " Classification Metrics: Test Data\n",
      "----------------------------------------------------------------------\n",
      "              precision    recall  f1-score   support\n",
      "\n",
      "        high       0.83      0.85      0.84       307\n",
      "         low       0.84      0.82      0.83       298\n",
      "\n",
      "    accuracy                           0.84       605\n",
      "   macro avg       0.84      0.84      0.84       605\n",
      "weighted avg       0.84      0.84      0.84       605\n",
      "\n"
     ]
    },
    {
     "data": {
      "image/png": "[encoded data removed]",
      "text/plain": [
       "<Figure size 600x400 with 2 Axes>"
      ]
     },
     "metadata": {},
     "output_type": "display_data"
    }
   ],
   "source": [
    "# evaluate model\n",
    "fn.evaluate_classification(clf_pipe, X_train,y_train, X_test, y_test)"
   ]
  },
  {
   "cell_type": "markdown",
   "id": "06761b68-335a-432a-a446-cc0da0dd2975",
   "metadata": {
    "id": "06761b68-335a-432a-a446-cc0da0dd2975"
   },
   "source": [
    "##### Observations:\n",
    "- This model has an accuracy of .84\n",
    "- There is not a large difference in accuracy between classes"
   ]
  },
  {
   "cell_type": "markdown",
   "id": "d5f6f7a1-f610-403f-a091-78f890bad347",
   "metadata": {
    "id": "d5f6f7a1-f610-403f-a091-78f890bad347"
   },
   "source": [
    "#### GridSearch Text Vectorization"
   ]
  },
  {
   "cell_type": "code",
   "execution_count": 14,
   "id": "b53ce4b9-dbbf-4e03-8684-311e2a6b0411",
   "metadata": {
    "id": "b53ce4b9-dbbf-4e03-8684-311e2a6b0411"
   },
   "outputs": [],
   "source": [
    "# Define params to try\n",
    "param_grid_shared = {\n",
    "    \"vectorizer__max_df\": [0.6, 0.7, 0.8],\n",
    "    \"vectorizer__min_df\": [2,3,4],\n",
    "    \"vectorizer__max_features\": [None, 1000, 2000],\n",
    "    \"vectorizer__stop_words\": [None,'english'],\n",
    "    \"vectorizer__ngram_range\": [(1, 1), (1, 2), (1,3)]\n",
    "}"
   ]
  },
  {
   "cell_type": "code",
   "execution_count": 15,
   "id": "9e8668a4-c9b5-45d9-a39a-cba176194881",
   "metadata": {
    "id": "9e8668a4-c9b5-45d9-a39a-cba176194881"
   },
   "outputs": [],
   "source": [
    "# Setting params for the count vectorizer\n",
    "param_grid_count = {\n",
    "    'vectorizer':[CountVectorizer()],\n",
    "    **param_grid_shared\n",
    "}"
   ]
  },
  {
   "cell_type": "code",
   "execution_count": 16,
   "id": "8e84b273-70f6-4142-828a-3a5b5e31cf84",
   "metadata": {
    "id": "8e84b273-70f6-4142-828a-3a5b5e31cf84"
   },
   "outputs": [],
   "source": [
    "# Set up Pipeline to allow GridSearching\n",
    "v_pipe = Pipeline([('vectorizer', CountVectorizer()),\n",
    "                     ('clf',RandomForestClassifier(random_state=42))])"
   ]
  },
  {
   "cell_type": "code",
   "execution_count": 17,
   "id": "bc4c4e1f-3659-40d6-a27b-13f542f7a9ff",
   "metadata": {
    "id": "bc4c4e1f-3659-40d6-a27b-13f542f7a9ff",
    "outputId": "63b041c8-de9a-4f66-b403-96c3d4b6f763"
   },
   "outputs": [
    {
     "name": "stdout",
     "output_type": "stream",
     "text": [
      "CPU times: total: 0 ns\n",
      "Wall time: 0 ns\n"
     ]
    }
   ],
   "source": [
    "%%time\n",
    "# Create grid search\n",
    "grid_search = GridSearchCV(v_pipe, param_grid_shared, cv=2, scoring = 'accuracy', verbose=1, n_jobs=-1)"
   ]
  },
  {
   "cell_type": "code",
   "execution_count": 18,
   "id": "d1fbaab8-c025-4990-8a4c-03d34f6678b8",
   "metadata": {
    "id": "d1fbaab8-c025-4990-8a4c-03d34f6678b8",
    "outputId": "c67ed315-d744-4037-82f8-2dc0b6279c88"
   },
   "outputs": [
    {
     "name": "stdout",
     "output_type": "stream",
     "text": [
      "Fitting 2 folds for each of 162 candidates, totalling 324 fits\n",
      "CPU times: total: 4.8 s\n",
      "Wall time: 3min 59s\n"
     ]
    },
    {
     "data": {
      "text/html": [
       "<style>#sk-container-id-3 {color: black;background-color: white;}#sk-container-id-3 pre{padding: 0;}#sk-container-id-3 div.sk-toggleable {background-color: white;}#sk-container-id-3 label.sk-toggleable__label {cursor: pointer;display: block;width: 100%;margin-bottom: 0;padding: 0.3em;box-sizing: border-box;text-align: center;}#sk-container-id-3 label.sk-toggleable__label-arrow:before {content: \"▸\";float: left;margin-right: 0.25em;color: #696969;}#sk-container-id-3 label.sk-toggleable__label-arrow:hover:before {color: black;}#sk-container-id-3 div.sk-estimator:hover label.sk-toggleable__label-arrow:before {color: black;}#sk-container-id-3 div.sk-toggleable__content {max-height: 0;max-width: 0;overflow: hidden;text-align: left;background-color: #f0f8ff;}#sk-container-id-3 div.sk-toggleable__content pre {margin: 0.2em;color: black;border-radius: 0.25em;background-color: #f0f8ff;}#sk-container-id-3 input.sk-toggleable__control:checked~div.sk-toggleable__content {max-height: 200px;max-width: 100%;overflow: auto;}#sk-container-id-3 input.sk-toggleable__control:checked~label.sk-toggleable__label-arrow:before {content: \"▾\";}#sk-container-id-3 div.sk-estimator input.sk-toggleable__control:checked~label.sk-toggleable__label {background-color: #d4ebff;}#sk-container-id-3 div.sk-label input.sk-toggleable__control:checked~label.sk-toggleable__label {background-color: #d4ebff;}#sk-container-id-3 input.sk-hidden--visually {border: 0;clip: rect(1px 1px 1px 1px);clip: rect(1px, 1px, 1px, 1px);height: 1px;margin: -1px;overflow: hidden;padding: 0;position: absolute;width: 1px;}#sk-container-id-3 div.sk-estimator {font-family: monospace;background-color: #f0f8ff;border: 1px dotted black;border-radius: 0.25em;box-sizing: border-box;margin-bottom: 0.5em;}#sk-container-id-3 div.sk-estimator:hover {background-color: #d4ebff;}#sk-container-id-3 div.sk-parallel-item::after {content: \"\";width: 100%;border-bottom: 1px solid gray;flex-grow: 1;}#sk-container-id-3 div.sk-label:hover label.sk-toggleable__label {background-color: #d4ebff;}#sk-container-id-3 div.sk-serial::before {content: \"\";position: absolute;border-left: 1px solid gray;box-sizing: border-box;top: 0;bottom: 0;left: 50%;z-index: 0;}#sk-container-id-3 div.sk-serial {display: flex;flex-direction: column;align-items: center;background-color: white;padding-right: 0.2em;padding-left: 0.2em;position: relative;}#sk-container-id-3 div.sk-item {position: relative;z-index: 1;}#sk-container-id-3 div.sk-parallel {display: flex;align-items: stretch;justify-content: center;background-color: white;position: relative;}#sk-container-id-3 div.sk-item::before, #sk-container-id-3 div.sk-parallel-item::before {content: \"\";position: absolute;border-left: 1px solid gray;box-sizing: border-box;top: 0;bottom: 0;left: 50%;z-index: -1;}#sk-container-id-3 div.sk-parallel-item {display: flex;flex-direction: column;z-index: 1;position: relative;background-color: white;}#sk-container-id-3 div.sk-parallel-item:first-child::after {align-self: flex-end;width: 50%;}#sk-container-id-3 div.sk-parallel-item:last-child::after {align-self: flex-start;width: 50%;}#sk-container-id-3 div.sk-parallel-item:only-child::after {width: 0;}#sk-container-id-3 div.sk-dashed-wrapped {border: 1px dashed gray;margin: 0 0.4em 0.5em 0.4em;box-sizing: border-box;padding-bottom: 0.4em;background-color: white;}#sk-container-id-3 div.sk-label label {font-family: monospace;font-weight: bold;display: inline-block;line-height: 1.2em;}#sk-container-id-3 div.sk-label-container {text-align: center;}#sk-container-id-3 div.sk-container {/* jupyter's `normalize.less` sets `[hidden] { display: none; }` but bootstrap.min.css set `[hidden] { display: none !important; }` so we also need the `!important` here to be able to override the default hidden behavior on the sphinx rendered scikit-learn.org. See: https://github.com/scikit-learn/scikit-learn/issues/21755 */display: inline-block !important;position: relative;}#sk-container-id-3 div.sk-text-repr-fallback {display: none;}</style><div id=\"sk-container-id-3\" class=\"sk-top-container\"><div class=\"sk-text-repr-fallback\"><pre>GridSearchCV(cv=2,\n",
       "             estimator=Pipeline(steps=[(&#x27;vectorizer&#x27;, CountVectorizer()),\n",
       "                                       (&#x27;clf&#x27;,\n",
       "                                        RandomForestClassifier(random_state=42))]),\n",
       "             n_jobs=-1,\n",
       "             param_grid={&#x27;vectorizer__max_df&#x27;: [0.6, 0.7, 0.8],\n",
       "                         &#x27;vectorizer__max_features&#x27;: [None, 1000, 2000],\n",
       "                         &#x27;vectorizer__min_df&#x27;: [2, 3, 4],\n",
       "                         &#x27;vectorizer__ngram_range&#x27;: [(1, 1), (1, 2), (1, 3)],\n",
       "                         &#x27;vectorizer__stop_words&#x27;: [None, &#x27;english&#x27;]},\n",
       "             scoring=&#x27;accuracy&#x27;, verbose=1)</pre><b>In a Jupyter environment, please rerun this cell to show the HTML representation or trust the notebook. <br />On GitHub, the HTML representation is unable to render, please try loading this page with nbviewer.org.</b></div><div class=\"sk-container\" hidden><div class=\"sk-item sk-dashed-wrapped\"><div class=\"sk-label-container\"><div class=\"sk-label sk-toggleable\"><input class=\"sk-toggleable__control sk-hidden--visually\" id=\"sk-estimator-id-7\" type=\"checkbox\" ><label for=\"sk-estimator-id-7\" class=\"sk-toggleable__label sk-toggleable__label-arrow\">GridSearchCV</label><div class=\"sk-toggleable__content\"><pre>GridSearchCV(cv=2,\n",
       "             estimator=Pipeline(steps=[(&#x27;vectorizer&#x27;, CountVectorizer()),\n",
       "                                       (&#x27;clf&#x27;,\n",
       "                                        RandomForestClassifier(random_state=42))]),\n",
       "             n_jobs=-1,\n",
       "             param_grid={&#x27;vectorizer__max_df&#x27;: [0.6, 0.7, 0.8],\n",
       "                         &#x27;vectorizer__max_features&#x27;: [None, 1000, 2000],\n",
       "                         &#x27;vectorizer__min_df&#x27;: [2, 3, 4],\n",
       "                         &#x27;vectorizer__ngram_range&#x27;: [(1, 1), (1, 2), (1, 3)],\n",
       "                         &#x27;vectorizer__stop_words&#x27;: [None, &#x27;english&#x27;]},\n",
       "             scoring=&#x27;accuracy&#x27;, verbose=1)</pre></div></div></div><div class=\"sk-parallel\"><div class=\"sk-parallel-item\"><div class=\"sk-item\"><div class=\"sk-label-container\"><div class=\"sk-label sk-toggleable\"><input class=\"sk-toggleable__control sk-hidden--visually\" id=\"sk-estimator-id-8\" type=\"checkbox\" ><label for=\"sk-estimator-id-8\" class=\"sk-toggleable__label sk-toggleable__label-arrow\">estimator: Pipeline</label><div class=\"sk-toggleable__content\"><pre>Pipeline(steps=[(&#x27;vectorizer&#x27;, CountVectorizer()),\n",
       "                (&#x27;clf&#x27;, RandomForestClassifier(random_state=42))])</pre></div></div></div><div class=\"sk-serial\"><div class=\"sk-item\"><div class=\"sk-serial\"><div class=\"sk-item\"><div class=\"sk-estimator sk-toggleable\"><input class=\"sk-toggleable__control sk-hidden--visually\" id=\"sk-estimator-id-9\" type=\"checkbox\" ><label for=\"sk-estimator-id-9\" class=\"sk-toggleable__label sk-toggleable__label-arrow\">CountVectorizer</label><div class=\"sk-toggleable__content\"><pre>CountVectorizer()</pre></div></div></div><div class=\"sk-item\"><div class=\"sk-estimator sk-toggleable\"><input class=\"sk-toggleable__control sk-hidden--visually\" id=\"sk-estimator-id-10\" type=\"checkbox\" ><label for=\"sk-estimator-id-10\" class=\"sk-toggleable__label sk-toggleable__label-arrow\">RandomForestClassifier</label><div class=\"sk-toggleable__content\"><pre>RandomForestClassifier(random_state=42)</pre></div></div></div></div></div></div></div></div></div></div></div></div>"
      ],
      "text/plain": [
       "GridSearchCV(cv=2,\n",
       "             estimator=Pipeline(steps=[('vectorizer', CountVectorizer()),\n",
       "                                       ('clf',\n",
       "                                        RandomForestClassifier(random_state=42))]),\n",
       "             n_jobs=-1,\n",
       "             param_grid={'vectorizer__max_df': [0.6, 0.7, 0.8],\n",
       "                         'vectorizer__max_features': [None, 1000, 2000],\n",
       "                         'vectorizer__min_df': [2, 3, 4],\n",
       "                         'vectorizer__ngram_range': [(1, 1), (1, 2), (1, 3)],\n",
       "                         'vectorizer__stop_words': [None, 'english']},\n",
       "             scoring='accuracy', verbose=1)"
      ]
     },
     "execution_count": 18,
     "metadata": {},
     "output_type": "execute_result"
    }
   ],
   "source": [
    "%%time\n",
    "# Fit the model\n",
    "grid_search.fit(X_train, y_train)"
   ]
  },
  {
   "cell_type": "code",
   "execution_count": 19,
   "id": "bd43877d-c5b2-45f8-a150-7f19a4be90ae",
   "metadata": {
    "id": "bd43877d-c5b2-45f8-a150-7f19a4be90ae",
    "outputId": "e17af9a0-0f09-419e-caa3-31a8497e7d66"
   },
   "outputs": [
    {
     "data": {
      "text/plain": [
       "{'vectorizer__max_df': 0.6,\n",
       " 'vectorizer__max_features': 1000,\n",
       " 'vectorizer__min_df': 4,\n",
       " 'vectorizer__ngram_range': (1, 1),\n",
       " 'vectorizer__stop_words': 'english'}"
      ]
     },
     "execution_count": 19,
     "metadata": {},
     "output_type": "execute_result"
    }
   ],
   "source": [
    "# what were the best params?\n",
    "grid_search.best_params_"
   ]
  },
  {
   "cell_type": "code",
   "execution_count": 20,
   "id": "fa7b9423-9637-4a11-859c-f9a3441c37fd",
   "metadata": {
    "id": "fa7b9423-9637-4a11-859c-f9a3441c37fd",
    "outputId": "39d433fb-a7c0-4df2-c85c-a260583ca33d"
   },
   "outputs": [
    {
     "name": "stdout",
     "output_type": "stream",
     "text": [
      "----------------------------------------------------------------------\n",
      " Classification Metrics: Training Data\n",
      "----------------------------------------------------------------------\n",
      "              precision    recall  f1-score   support\n",
      "\n",
      "        high       1.00      1.00      1.00       888\n",
      "         low       1.00      1.00      1.00       926\n",
      "\n",
      "    accuracy                           1.00      1814\n",
      "   macro avg       1.00      1.00      1.00      1814\n",
      "weighted avg       1.00      1.00      1.00      1814\n",
      "\n"
     ]
    },
    {
     "data": {
      "image/png": "[encoded data removed]",
      "text/plain": [
       "<Figure size 600x400 with 2 Axes>"
      ]
     },
     "metadata": {},
     "output_type": "display_data"
    },
    {
     "name": "stdout",
     "output_type": "stream",
     "text": [
      "\n",
      "----------------------------------------------------------------------\n",
      " Classification Metrics: Test Data\n",
      "----------------------------------------------------------------------\n",
      "              precision    recall  f1-score   support\n",
      "\n",
      "        high       0.83      0.83      0.83       307\n",
      "         low       0.82      0.82      0.82       298\n",
      "\n",
      "    accuracy                           0.83       605\n",
      "   macro avg       0.83      0.83      0.83       605\n",
      "weighted avg       0.83      0.83      0.83       605\n",
      "\n"
     ]
    },
    {
     "data": {
      "image/png": "[encoded data removed]",
      "text/plain": [
       "<Figure size 600x400 with 2 Axes>"
      ]
     },
     "metadata": {},
     "output_type": "display_data"
    }
   ],
   "source": [
    "best_model = grid_search.best_estimator_\n",
    "\n",
    "fn.evaluate_classification(best_model,X_train,y_train,X_test,y_test)"
   ]
  },
  {
   "cell_type": "markdown",
   "id": "09c23448-7d30-4bfc-883d-beec2ce5b824",
   "metadata": {
    "id": "09c23448-7d30-4bfc-883d-beec2ce5b824"
   },
   "source": [
    "##### Observations:\n",
    "- With best parameters the gridsearch an accuracy of .83"
   ]
  },
  {
   "cell_type": "markdown",
   "id": "e57993cf-e2d1-44fb-9733-c589111340c9",
   "metadata": {
    "id": "e57993cf-e2d1-44fb-9733-c589111340c9"
   },
   "source": [
    "### Deep NLP"
   ]
  },
  {
   "cell_type": "markdown",
   "id": "584e4946-8a80-443c-947e-fb15fe8977d5",
   "metadata": {
    "id": "584e4946-8a80-443c-947e-fb15fe8977d5"
   },
   "source": [
    "#### Prep / Train Dataset"
   ]
  },
  {
   "cell_type": "code",
   "execution_count": 21,
   "id": "cd6bcf90-e132-4d7b-829f-91568a73e88e",
   "metadata": {
    "id": "cd6bcf90-e132-4d7b-829f-91568a73e88e"
   },
   "outputs": [],
   "source": [
    "# instantiate LabelEncoder\n",
    "encoder = LabelEncoder()"
   ]
  },
  {
   "cell_type": "code",
   "execution_count": 22,
   "id": "99ad12be-6359-4177-81ab-8f40c59c1f78",
   "metadata": {
    "id": "99ad12be-6359-4177-81ab-8f40c59c1f78",
    "outputId": "06152aa6-c016-4d6e-86dd-22cb1b21dc49"
   },
   "outputs": [
    {
     "data": {
      "text/plain": [
       "1    1224\n",
       "0    1195\n",
       "dtype: int64"
      ]
     },
     "execution_count": 22,
     "metadata": {},
     "output_type": "execute_result"
    }
   ],
   "source": [
    "# Fit and Transform the strings into integers\n",
    "y = pd.Series(encoder.fit_transform(y))\n",
    "y.value_counts()"
   ]
  },
  {
   "cell_type": "code",
   "execution_count": 23,
   "id": "f01aec4b-a864-4fe6-b787-be93c650c4bb",
   "metadata": {
    "id": "f01aec4b-a864-4fe6-b787-be93c650c4bb",
    "outputId": "61d625d7-8b70-41db-deb8-d64c6d9ffa37"
   },
   "outputs": [
    {
     "data": {
      "text/plain": [
       "<_TensorSliceDataset element_spec=(TensorSpec(shape=(), dtype=tf.string, name=None), TensorSpec(shape=(), dtype=tf.int32, name=None))>"
      ]
     },
     "execution_count": 23,
     "metadata": {},
     "output_type": "execute_result"
    }
   ],
   "source": [
    "# Convert to Dataset object\n",
    "ds = tf.data.Dataset.from_tensor_slices((X, y))\n",
    "ds"
   ]
  },
  {
   "cell_type": "code",
   "execution_count": 24,
   "id": "97dea416-ea78-49b7-8b84-e910c4bc3570",
   "metadata": {
    "id": "97dea416-ea78-49b7-8b84-e910c4bc3570"
   },
   "outputs": [],
   "source": [
    "# shuffle data once\n",
    "ds = ds.shuffle(buffer_size=len(ds), reshuffle_each_iteration=False)"
   ]
  },
  {
   "cell_type": "code",
   "execution_count": 25,
   "id": "94fb1be0-fdfc-4281-9434-c4b54f3496d1",
   "metadata": {
    "id": "94fb1be0-fdfc-4281-9434-c4b54f3496d1"
   },
   "outputs": [],
   "source": [
    "# Add a column to the dataframe that has the length of each paragraph\n",
    "df['sequence_length'] = df['review'].map( lambda x: len(x.split(\" \")))"
   ]
  },
  {
   "cell_type": "code",
   "execution_count": 26,
   "id": "1211cbb9-310c-447b-821f-1a9315f2ea2f",
   "metadata": {
    "id": "1211cbb9-310c-447b-821f-1a9315f2ea2f",
    "outputId": "cd4cd05f-ba02-4ed1-9d8f-633915b9853f"
   },
   "outputs": [
    {
     "data": {
      "text/plain": [
       "count    2419.000000\n",
       "mean      225.767673\n",
       "std       270.815728\n",
       "min         1.000000\n",
       "25%        62.000000\n",
       "50%       143.000000\n",
       "75%       286.500000\n",
       "max      4017.000000\n",
       "Name: sequence_length, dtype: float64"
      ]
     },
     "execution_count": 26,
     "metadata": {},
     "output_type": "execute_result"
    }
   ],
   "source": [
    "\n",
    "df['sequence_length'].describe()"
   ]
  },
  {
   "cell_type": "code",
   "execution_count": 27,
   "id": "10955be7-79f5-459c-99d2-1f9bec6c682b",
   "metadata": {
    "id": "10955be7-79f5-459c-99d2-1f9bec6c682b"
   },
   "outputs": [],
   "source": [
    "# maximum length = sequence length max\n",
    "SEQUENCE_LENGTH = 4017"
   ]
  },
  {
   "cell_type": "code",
   "execution_count": 28,
   "id": "7d28912d-3336-4653-98af-ed84495b0425",
   "metadata": {
    "id": "7d28912d-3336-4653-98af-ed84495b0425"
   },
   "outputs": [],
   "source": [
    "# Set the ratio of the train, validation, test split\n",
    "split_train = .7\n",
    "split_val =  .2\n",
    "split_test =  1 -( split_train + split_val )"
   ]
  },
  {
   "cell_type": "code",
   "execution_count": 29,
   "id": "11000bd6-f6f3-4170-a681-63487da56712",
   "metadata": {
    "id": "11000bd6-f6f3-4170-a681-63487da56712"
   },
   "outputs": [],
   "source": [
    "# Calculate the number of samples for training and validation data\n",
    "n_train_samples =  int(len(ds) * split_train)\n",
    "n_val_samples = int(len(ds) * split_val)\n",
    "n_test_samples = len(ds) -(n_train_samples + n_val_samples)"
   ]
  },
  {
   "cell_type": "code",
   "execution_count": 30,
   "id": "0b59cd0b-9880-4da0-9caa-be8f52e4da21",
   "metadata": {
    "id": "0b59cd0b-9880-4da0-9caa-be8f52e4da21"
   },
   "outputs": [],
   "source": [
    "# Set the batch size\n",
    "BATCH_SIZE =32"
   ]
  },
  {
   "cell_type": "code",
   "execution_count": 31,
   "id": "14c50676-ae5e-400c-8c12-9968870e36d0",
   "metadata": {
    "id": "14c50676-ae5e-400c-8c12-9968870e36d0"
   },
   "outputs": [],
   "source": [
    "# Use take and skip to define each set\n",
    "train_ds = ds.take(n_train_samples).batch(batch_size=BATCH_SIZE)\n",
    "\n",
    "# Skip over the training batches and take the validation batches\n",
    "val_ds = ds.skip(n_train_samples).take(n_val_samples).batch(batch_size=BATCH_SIZE)\n",
    "\n",
    "# Skipver the train and validation batches, the remaining are the test batches\n",
    "test_ds = ds.skip(n_train_samples + n_val_samples).batch(batch_size=BATCH_SIZE)"
   ]
  },
  {
   "cell_type": "code",
   "execution_count": 32,
   "id": "9dd1f741-abe2-4fcf-9a08-4ad423990349",
   "metadata": {
    "id": "9dd1f741-abe2-4fcf-9a08-4ad423990349"
   },
   "outputs": [],
   "source": [
    "# Get just the text from ds_train\n",
    "ds_texts = train_ds.map(lambda x, y: x)"
   ]
  },
  {
   "cell_type": "markdown",
   "id": "f0d7350a-82f6-4fd9-9b00-0eefdc4e54af",
   "metadata": {
    "id": "f0d7350a-82f6-4fd9-9b00-0eefdc4e54af"
   },
   "source": [
    "#### Creating Keras Text Vectorization Layer"
   ]
  },
  {
   "cell_type": "code",
   "execution_count": 33,
   "id": "d6afa16c-855f-452a-9bbc-05fdc3bd9228",
   "metadata": {
    "id": "d6afa16c-855f-452a-9bbc-05fdc3bd9228"
   },
   "outputs": [],
   "source": [
    "# Create keras text Vectorization layer\n",
    "sequence_vectorizer = tf.keras.layers.TextVectorization(\n",
    "    standardize=\"lower_and_strip_punctuation\",\n",
    "    output_mode=\"int\",\n",
    "    output_sequence_length=SEQUENCE_LENGTH\n",
    ")"
   ]
  },
  {
   "cell_type": "code",
   "execution_count": 34,
   "id": "d49c14e6-2b8a-4ddd-8e35-f29a9e56b069",
   "metadata": {
    "id": "d49c14e6-2b8a-4ddd-8e35-f29a9e56b069"
   },
   "outputs": [],
   "source": [
    "# Fit/Adapt the text vectorization layer on the training texts.\n",
    "sequence_vectorizer.adapt(ds_texts)"
   ]
  },
  {
   "cell_type": "code",
   "execution_count": 35,
   "id": "53a50168-9825-47d7-82d4-d59a0c28a96a",
   "metadata": {
    "id": "53a50168-9825-47d7-82d4-d59a0c28a96a"
   },
   "outputs": [],
   "source": [
    "# Save the vocabulary size from the layer to use in your models' Embedding layer.\n",
    "VOCAB_SIZE = sequence_vectorizer.vocabulary_size()"
   ]
  },
  {
   "cell_type": "code",
   "execution_count": 36,
   "id": "5ce371ff-867b-4479-a2b5-7685d6980a9b",
   "metadata": {
    "id": "5ce371ff-867b-4479-a2b5-7685d6980a9b",
    "outputId": "3763e7d3-5d60-4522-c09b-8d51a5535df0"
   },
   "outputs": [
    {
     "data": {
      "text/plain": [
       "array([0, 1])"
      ]
     },
     "execution_count": 36,
     "metadata": {},
     "output_type": "execute_result"
    }
   ],
   "source": [
    "# unique classes\n",
    "classes = y.unique()\n",
    "classes"
   ]
  },
  {
   "cell_type": "markdown",
   "id": "c436562c-1ed4-4f7c-9ab8-78ff4a52a87b",
   "metadata": {
    "id": "c436562c-1ed4-4f7c-9ab8-78ff4a52a87b"
   },
   "source": [
    "#### RNN"
   ]
  },
  {
   "cell_type": "code",
   "execution_count": 37,
   "id": "737ae0dc-4d91-4eee-944b-689da0966e84",
   "metadata": {
    "id": "737ae0dc-4d91-4eee-944b-689da0966e84"
   },
   "outputs": [],
   "source": [
    "# Function - using the model that performed best in core projects\n",
    "def build_gru_model_bi_pool(text_vectorization_layer):\n",
    "\n",
    "    gru_model_bi_pool = Sequential([\n",
    "        text_vectorization_layer,\n",
    "        layers.Embedding(input_dim=VOCAB_SIZE,\n",
    "                      output_dim=EMBED_DIM,\n",
    "                      input_length=SEQUENCE_LENGTH)])\n",
    "\n",
    "    # Add bidirectional component to GRU layer\n",
    "    gru_model_bi_pool.add(layers.Bidirectional(layers.GRU(64, return_sequences = True)))\n",
    "    gru_model_bi_pool.add(layers.Dropout(.2))\n",
    "    gru_model_bi_pool.add(layers.Bidirectional(layers.GRU(32, return_sequences = True)))\n",
    "    # Add a pooling layer *new\n",
    "    gru_model_bi_pool.add(layers.GlobalMaxPooling1D())\n",
    "\n",
    "    # Output layer\n",
    "    gru_model_bi_pool.add(layers.Dense(len(classes), activation='softmax'))\n",
    "\n",
    "    optimizer = optimizers.legacy.Adam()\n",
    "    gru_model_bi_pool.compile(optimizer=optimizer,\n",
    "                  loss='sparse_categorical_crossentropy', metrics=['accuracy'])\n",
    "    gru_model_bi_pool.summary()\n",
    "    return gru_model_bi_pool"
   ]
  },
  {
   "cell_type": "code",
   "execution_count": 38,
   "id": "d72b9eaf-1188-4203-a7d3-4cdd3fdf1412",
   "metadata": {
    "id": "d72b9eaf-1188-4203-a7d3-4cdd3fdf1412",
    "outputId": "3be7ee43-1da4-47a3-9df2-a7e8e39c7d42",
    "scrolled": true
   },
   "outputs": [
    {
     "name": "stdout",
     "output_type": "stream",
     "text": [
      "Model: \"sequential\"\n",
      "_________________________________________________________________\n",
      " Layer (type)                Output Shape              Param #   \n",
      "=================================================================\n",
      " text_vectorization (TextVec  (None, 4017)             0         \n",
      " torization)                                                     \n",
      "                                                                 \n",
      " embedding (Embedding)       (None, 4017, 100)         2492300   \n",
      "                                                                 \n",
      " bidirectional (Bidirectiona  (None, 4017, 128)        63744     \n",
      " l)                                                              \n",
      "                                                                 \n",
      " dropout (Dropout)           (None, 4017, 128)         0         \n",
      "                                                                 \n",
      " bidirectional_1 (Bidirectio  (None, 4017, 64)         31104     \n",
      " nal)                                                            \n",
      "                                                                 \n",
      " global_max_pooling1d (Globa  (None, 64)               0         \n",
      " lMaxPooling1D)                                                  \n",
      "                                                                 \n",
      " dense (Dense)               (None, 2)                 130       \n",
      "                                                                 \n",
      "=================================================================\n",
      "Total params: 2,587,278\n",
      "Trainable params: 2,587,278\n",
      "Non-trainable params: 0\n",
      "_________________________________________________________________\n",
      "Epoch 1/30\n",
      "53/53 [==============================] - 449s 8s/step - loss: 0.6834 - accuracy: 0.5570 - val_loss: 0.6517 - val_accuracy: 0.6563\n",
      "Epoch 2/30\n",
      "53/53 [==============================] - 475s 9s/step - loss: 0.4167 - accuracy: 0.8193 - val_loss: 0.4494 - val_accuracy: 0.7888\n",
      "Epoch 3/30\n",
      "53/53 [==============================] - 471s 9s/step - loss: 0.0984 - accuracy: 0.9705 - val_loss: 0.4404 - val_accuracy: 0.8427\n",
      "Epoch 4/30\n",
      "53/53 [==============================] - 446s 8s/step - loss: 0.1702 - accuracy: 0.9439 - val_loss: 1.9830 - val_accuracy: 0.7184\n",
      "Epoch 5/30\n",
      "53/53 [==============================] - 428s 8s/step - loss: 0.4620 - accuracy: 0.8252 - val_loss: 0.5181 - val_accuracy: 0.7412\n",
      "Epoch 6/30\n",
      "53/53 [==============================] - 437s 8s/step - loss: 0.0840 - accuracy: 0.9752 - val_loss: 0.4864 - val_accuracy: 0.8302\n"
     ]
    }
   ],
   "source": [
    "EMBED_DIM = 100\n",
    "#Build the model\n",
    "model = build_gru_model_bi_pool(sequence_vectorizer)\n",
    "# Fit the model\n",
    "EPOCHS = 30\n",
    "history = model.fit(\n",
    "    train_ds,\n",
    "    epochs=EPOCHS,\n",
    "    validation_data=val_ds,\n",
    "    callbacks=fn.get_callbacks(),\n",
    ")"
   ]
  },
  {
   "cell_type": "code",
   "execution_count": 39,
   "id": "af22e88d-cd35-40ce-a023-05cdbc0ac9c8",
   "metadata": {
    "id": "af22e88d-cd35-40ce-a023-05cdbc0ac9c8",
    "outputId": "0967efd9-bee7-46da-a1ca-263b5acd354e"
   },
   "outputs": [
    {
     "data": {
      "image/png": "[encoded data removed]",
      "text/plain": [
       "<Figure size 600x600 with 2 Axes>"
      ]
     },
     "metadata": {},
     "output_type": "display_data"
    },
    {
     "name": "stdout",
     "output_type": "stream",
     "text": [
      "\n",
      "================================================================================\n",
      "- Evaluating Network...\n",
      "================================================================================\n",
      "----------------------------------------------------------------------\n",
      " Classification Metrics: Training Data\n",
      "----------------------------------------------------------------------\n",
      "              precision    recall  f1-score   support\n",
      "\n",
      "           0       1.00      1.00      1.00       856\n",
      "           1       1.00      1.00      1.00       837\n",
      "\n",
      "    accuracy                           1.00      1693\n",
      "   macro avg       1.00      1.00      1.00      1693\n",
      "weighted avg       1.00      1.00      1.00      1693\n",
      "\n"
     ]
    },
    {
     "data": {
      "image/png": "[encoded data removed]",
      "text/plain": [
       "<Figure size 600x400 with 2 Axes>"
      ]
     },
     "metadata": {},
     "output_type": "display_data"
    },
    {
     "name": "stdout",
     "output_type": "stream",
     "text": [
      "\n",
      "- Evaluating Training Data:\n",
      "53/53 [==============================] - 58s 1s/step - loss: 0.0084 - accuracy: 0.9988\n",
      "{'loss': 0.008370901457965374, 'accuracy': 0.9988186359405518}\n",
      "----------------------------------------------------------------------\n",
      " Classification Metrics: Test Data\n",
      "----------------------------------------------------------------------\n",
      "              precision    recall  f1-score   support\n",
      "\n",
      "           0       0.76      0.85      0.80       113\n",
      "           1       0.85      0.76      0.80       130\n",
      "\n",
      "    accuracy                           0.80       243\n",
      "   macro avg       0.80      0.81      0.80       243\n",
      "weighted avg       0.81      0.80      0.80       243\n",
      "\n"
     ]
    },
    {
     "data": {
      "image/png": "[encoded data removed]",
      "text/plain": [
       "<Figure size 600x400 with 2 Axes>"
      ]
     },
     "metadata": {},
     "output_type": "display_data"
    },
    {
     "name": "stdout",
     "output_type": "stream",
     "text": [
      "\n",
      "- Evaluating Test Data:\n",
      "8/8 [==============================] - 8s 1s/step - loss: 0.5782 - accuracy: 0.8025\n",
      "{'loss': 0.5782195329666138, 'accuracy': 0.8024691343307495}\n"
     ]
    }
   ],
   "source": [
    "# Evaluate the model\n",
    "results = fn.evaluate_classification_network(\n",
    "    model, X_train=train_ds,\n",
    "    X_test=test_ds, history=history);"
   ]
  },
  {
   "cell_type": "markdown",
   "id": "55c4bdf5-429c-4201-a2b8-d8bb9a9204ac",
   "metadata": {
    "id": "55c4bdf5-429c-4201-a2b8-d8bb9a9204ac"
   },
   "source": [
    "##### Observations:\n",
    "- Test data accuracy is .80"
   ]
  },
  {
   "cell_type": "markdown",
   "id": "b9f83db8-2df5-4ff5-9835-09c4a47d3335",
   "metadata": {
    "id": "08bab61b-231d-4a13-9588-d7c1d3646ad7"
   },
   "source": [
    "### **Observation and Model Analysis**\n",
    "\n",
    "I created 3 models to analyze. I created a basic random forest classifier, for the next model I tuned some of the parameters using grid search to try to create the best model, and finally I created a bidirectional GRU. \r\n",
    "The accuracy on all  3 models was similar. TheRandom Forest had the highestd accuracy of 84% while the tuned model had 83%.\r\n",
    "Notably the basic Random Forest had the best precision, recall and F1 scores for the High review. 83, 85, and 84, respectively. The bidirectional GRmatched the High recall score of 85% and had the highest precistion on the Low reviews with 85% but fell behind the other models in every other category and had only an overall accuracy of 80%rd\n",
    "\n",
    "\n",
    "Random Forest: accuracy .84\n",
    "- High\n",
    "    - precision - .83\n",
    "    - recall - .85\n",
    "    - f1 score - .84\n",
    "- Low\n",
    "    - precision - .84\n",
    "    - recall - .82\n",
    "    - f1 score - .83\n",
    " \n",
    "Grid Search: accuracy .83\n",
    "- High\n",
    "    - precision - .83\n",
    "    - recall - .83\n",
    "    - f1 score - .83\n",
    "- Low\n",
    "    - precision - .82\n",
    "    - recall - .82\n",
    "    - f1 score - .82\n",
    " \n",
    "Bi-GRU: accuracy .80\n",
    "- High\n",
    "    - precision - .76\n",
    "    - recall - .85\n",
    "    - f1 score - .80\n",
    "- Low\n",
    "    - precision - .85\n",
    "    - recall - .76\n",
    "    - f1 score - .80l."
   ]
  },
  {
   "cell_type": "code",
   "execution_count": null,
   "id": "2cd92b5b-461a-4c28-94cc-5f160ecfe3fc",
   "metadata": {},
   "outputs": [],
   "source": []
  }
 ],
 "metadata": {
  "colab": {
   "provenance": []
  },
  "kernelspec": {
   "display_name": "Python (dojo-env)",
   "language": "python",
   "name": "dojo-env"
  },
  "language_info": {
   "codemirror_mode": {
    "name": "ipython",
    "version": 3
   },
   "file_extension": ".py",
   "mimetype": "text/x-python",
   "name": "python",
   "nbconvert_exporter": "python",
   "pygments_lexer": "ipython3",
   "version": "3.10.10"
  },
  "widgets": {
   "application/vnd.jupyter.widget-state+json": {
    "state": {},
    "version_major": 2,
    "version_minor": 0
   }
  }
 },
 "nbformat": 4,
 "nbformat_minor": 5
}
