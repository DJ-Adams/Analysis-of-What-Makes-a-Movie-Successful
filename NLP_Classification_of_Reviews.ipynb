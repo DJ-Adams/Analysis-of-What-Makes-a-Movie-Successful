{
 "cells": [
  {
   "cell_type": "markdown",
   "id": "76fa5646-0561-4b89-907d-9b9057bf1ff0",
   "metadata": {
    "id": "76fa5646-0561-4b89-907d-9b9057bf1ff0"
   },
   "source": [
    "# NLP and ML Classification of Reviews\n",
    "- **Darlene Adams**"
   ]
  },
  {
   "cell_type": "markdown",
   "id": "025e572d-2e09-4304-8f7a-25d924242a1f",
   "metadata": {
    "id": "025e572d-2e09-4304-8f7a-25d924242a1f"
   },
   "source": [
    "### Imports / Data Prep"
   ]
  },
  {
   "cell_type": "code",
   "execution_count": 1,
   "id": "158ac66c-3864-4252-a871-52f96bc29eb3",
   "metadata": {
    "id": "158ac66c-3864-4252-a871-52f96bc29eb3"
   },
   "outputs": [],
   "source": [
    "import pandas as pd\n",
    "import joblib\n",
    "from sklearn.pipeline import make_pipeline\n",
    "from sklearn.pipeline import Pipeline\n",
    "from sklearn.feature_extraction.text import CountVectorizer\n",
    "from sklearn.ensemble import RandomForestClassifier\n",
    "from sklearn.model_selection import train_test_split, GridSearchCV\n",
    "\n",
    "from sklearn.metrics import classification_report, ConfusionMatrixDisplay\n",
    "import matplotlib.pyplot as plt\n",
    "import numpy as np\n",
    "import tensorflow as tf\n",
    "from sklearn.preprocessing import LabelEncoder\n",
    "from tensorflow.keras.models import Sequential\n",
    "from tensorflow.keras import layers, optimizers, regularizers\n",
    "# Then run the Enable Deterministic Operations Function\n",
    "tf.config.experimental.enable_op_determinism()\n",
    "# Random Seeds\n",
    "tf.keras.utils.set_random_seed(42)\n",
    "tf.random.set_seed(42)\n",
    "np.random.seed(42)\n"
   ]
  },
  {
   "cell_type": "code",
   "execution_count": 2,
   "id": "-jBnlmh9ndhB",
   "metadata": {
    "id": "-jBnlmh9ndhB"
   },
   "outputs": [
    {
     "name": "stdout",
     "output_type": "stream",
     "text": [
      "Custom_Functions module imported successfully!\n"
     ]
    }
   ],
   "source": [
    "# Adding different sub folder\n",
    "import sys\n",
    "import os\n",
    "\n",
    "# Append the path to the Data folder\n",
    "data_folder_path = os.path.abspath('Data')\n",
    "sys.path.append(data_folder_path)\n",
    "\n",
    "## Load the autoreload extension\n",
    "%load_ext autoreload\n",
    "%autoreload 2\n",
    "\n",
    "try:\n",
    "    import Custom_Functions as fn\n",
    "    print(\"Custom_Functions module imported successfully!\")\n",
    "except ModuleNotFoundError:\n",
    "    print(f\"Failed to import Custom_Functions module from {data_folder_path}\")"
   ]
  },
  {
   "cell_type": "code",
   "execution_count": 3,
   "id": "e19eb0d7-aac6-41cd-9a58-919093cb3ace",
   "metadata": {
    "id": "e19eb0d7-aac6-41cd-9a58-919093cb3ace",
    "outputId": "7cbccc95-0c1a-46eb-fbdb-0fdde8ec5a45"
   },
   "outputs": [
    {
     "data": {
      "text/html": [
       "<div>\n",
       "<style scoped>\n",
       "    .dataframe tbody tr th:only-of-type {\n",
       "        vertical-align: middle;\n",
       "    }\n",
       "\n",
       "    .dataframe tbody tr th {\n",
       "        vertical-align: top;\n",
       "    }\n",
       "\n",
       "    .dataframe thead th {\n",
       "        text-align: right;\n",
       "    }\n",
       "</style>\n",
       "<table border=\"1\" class=\"dataframe\">\n",
       "  <thead>\n",
       "    <tr style=\"text-align: right;\">\n",
       "      <th></th>\n",
       "      <th>review_id</th>\n",
       "      <th>movie_id</th>\n",
       "      <th>imdb_id</th>\n",
       "      <th>original_title</th>\n",
       "      <th>review</th>\n",
       "      <th>rating</th>\n",
       "      <th>ratings</th>\n",
       "      <th>lower</th>\n",
       "      <th>tokens</th>\n",
       "      <th>tokens_as_strings</th>\n",
       "      <th>clean</th>\n",
       "      <th>lemmas</th>\n",
       "      <th>lemmas-joined</th>\n",
       "      <th>tokens_joined</th>\n",
       "    </tr>\n",
       "  </thead>\n",
       "  <tbody>\n",
       "    <tr>\n",
       "      <th>0</th>\n",
       "      <td>64ecc16e83901800af821d50</td>\n",
       "      <td>843</td>\n",
       "      <td>tt0118694</td>\n",
       "      <td>花樣年華</td>\n",
       "      <td>This is a fine piece of cinema from Wong Kar-W...</td>\n",
       "      <td>7.0</td>\n",
       "      <td>None</td>\n",
       "      <td>this is a fine piece of cinema from wong kar-w...</td>\n",
       "      <td>[this, is, a, fine, piece, of, cinema, from, w...</td>\n",
       "      <td>this , is , a , fine , piece , of , cinema , f...</td>\n",
       "      <td>this  is  a  fine  piece  of  cinema  from  wo...</td>\n",
       "      <td>[fine, piece, cinema, wong, karwai, tell, stor...</td>\n",
       "      <td>fine piece cinema wong karwai tell story peopl...</td>\n",
       "      <td>this is a fine piece of cinema from wong kar-w...</td>\n",
       "    </tr>\n",
       "    <tr>\n",
       "      <th>1</th>\n",
       "      <td>57086ff5c3a3681d29001512</td>\n",
       "      <td>7443</td>\n",
       "      <td>tt0120630</td>\n",
       "      <td>Chicken Run</td>\n",
       "      <td>A guilty pleasure for me personally, as I love...</td>\n",
       "      <td>9.0</td>\n",
       "      <td>high</td>\n",
       "      <td>a guilty pleasure for me personally, as i love...</td>\n",
       "      <td>[a, guilty, pleasure, for, me, personally, ,, ...</td>\n",
       "      <td>a , guilty , pleasure , for , me , personally ...</td>\n",
       "      <td>a  guilty  pleasure  for  me  personally    as...</td>\n",
       "      <td>[guilty, pleasure, personally, love, great, es...</td>\n",
       "      <td>guilty pleasure personally love great escape w...</td>\n",
       "      <td>a guilty pleasure for me personally , as i lov...</td>\n",
       "    </tr>\n",
       "    <tr>\n",
       "      <th>2</th>\n",
       "      <td>5bb5ac829251410dcb00810c</td>\n",
       "      <td>7443</td>\n",
       "      <td>tt0120630</td>\n",
       "      <td>Chicken Run</td>\n",
       "      <td>Made my roommate who hates stop-motion animati...</td>\n",
       "      <td>6.0</td>\n",
       "      <td>None</td>\n",
       "      <td>made my roommate who hates stop-motion animati...</td>\n",
       "      <td>[made, my, roommate, who, hates, stop-motion, ...</td>\n",
       "      <td>made , my , roommate , who , hates , stop-moti...</td>\n",
       "      <td>made  my  roommate  who  hates  stopmotion  an...</td>\n",
       "      <td>[roommate, hate, stopmotion, animation, watch,...</td>\n",
       "      <td>roommate hate stopmotion animation watch 2018 ...</td>\n",
       "      <td>made my roommate who hates stop-motion animati...</td>\n",
       "    </tr>\n",
       "    <tr>\n",
       "      <th>3</th>\n",
       "      <td>5f0c53a013a32000357ec505</td>\n",
       "      <td>7443</td>\n",
       "      <td>tt0120630</td>\n",
       "      <td>Chicken Run</td>\n",
       "      <td>A very good stop-motion animation!\\r\\n\\r\\n&lt;em&gt;...</td>\n",
       "      <td>8.0</td>\n",
       "      <td>None</td>\n",
       "      <td>a very good stop-motion animation!\\r\\n\\r\\n&lt;em&gt;...</td>\n",
       "      <td>[a, very, good, stop-motion, animation, !, &lt;em...</td>\n",
       "      <td>a , very , good , stop-motion , animation , ! ...</td>\n",
       "      <td>a  very  good  stopmotion  animation    em    ...</td>\n",
       "      <td>[good, stopmotion, animation, em, chicken, run...</td>\n",
       "      <td>good stopmotion animation em chicken run em wa...</td>\n",
       "      <td>a very good stop-motion animation ! &lt;em&gt; ' chi...</td>\n",
       "    </tr>\n",
       "    <tr>\n",
       "      <th>4</th>\n",
       "      <td>64ecc027594c9400ffe77c91</td>\n",
       "      <td>7443</td>\n",
       "      <td>tt0120630</td>\n",
       "      <td>Chicken Run</td>\n",
       "      <td>Ok, there is an huge temptation to riddle this...</td>\n",
       "      <td>7.0</td>\n",
       "      <td>None</td>\n",
       "      <td>ok, there is an huge temptation to riddle this...</td>\n",
       "      <td>[ok, ,, there, is, an, huge, temptation, to, r...</td>\n",
       "      <td>ok , , , there , is , an , huge , temptation ,...</td>\n",
       "      <td>ok    there  is  an  huge  temptation  to  rid...</td>\n",
       "      <td>[ok, huge, temptation, riddle, review, pun, m,...</td>\n",
       "      <td>ok huge temptation riddle review pun m go crac...</td>\n",
       "      <td>ok , there is an huge temptation to riddle thi...</td>\n",
       "    </tr>\n",
       "  </tbody>\n",
       "</table>\n",
       "</div>"
      ],
      "text/plain": [
       "                  review_id  movie_id    imdb_id original_title  \\\n",
       "0  64ecc16e83901800af821d50       843  tt0118694           花樣年華   \n",
       "1  57086ff5c3a3681d29001512      7443  tt0120630    Chicken Run   \n",
       "2  5bb5ac829251410dcb00810c      7443  tt0120630    Chicken Run   \n",
       "3  5f0c53a013a32000357ec505      7443  tt0120630    Chicken Run   \n",
       "4  64ecc027594c9400ffe77c91      7443  tt0120630    Chicken Run   \n",
       "\n",
       "                                              review  rating ratings  \\\n",
       "0  This is a fine piece of cinema from Wong Kar-W...     7.0    None   \n",
       "1  A guilty pleasure for me personally, as I love...     9.0    high   \n",
       "2  Made my roommate who hates stop-motion animati...     6.0    None   \n",
       "3  A very good stop-motion animation!\\r\\n\\r\\n<em>...     8.0    None   \n",
       "4  Ok, there is an huge temptation to riddle this...     7.0    None   \n",
       "\n",
       "                                               lower  \\\n",
       "0  this is a fine piece of cinema from wong kar-w...   \n",
       "1  a guilty pleasure for me personally, as i love...   \n",
       "2  made my roommate who hates stop-motion animati...   \n",
       "3  a very good stop-motion animation!\\r\\n\\r\\n<em>...   \n",
       "4  ok, there is an huge temptation to riddle this...   \n",
       "\n",
       "                                              tokens  \\\n",
       "0  [this, is, a, fine, piece, of, cinema, from, w...   \n",
       "1  [a, guilty, pleasure, for, me, personally, ,, ...   \n",
       "2  [made, my, roommate, who, hates, stop-motion, ...   \n",
       "3  [a, very, good, stop-motion, animation, !, <em...   \n",
       "4  [ok, ,, there, is, an, huge, temptation, to, r...   \n",
       "\n",
       "                                   tokens_as_strings  \\\n",
       "0  this , is , a , fine , piece , of , cinema , f...   \n",
       "1  a , guilty , pleasure , for , me , personally ...   \n",
       "2  made , my , roommate , who , hates , stop-moti...   \n",
       "3  a , very , good , stop-motion , animation , ! ...   \n",
       "4  ok , , , there , is , an , huge , temptation ,...   \n",
       "\n",
       "                                               clean  \\\n",
       "0  this  is  a  fine  piece  of  cinema  from  wo...   \n",
       "1  a  guilty  pleasure  for  me  personally    as...   \n",
       "2  made  my  roommate  who  hates  stopmotion  an...   \n",
       "3  a  very  good  stopmotion  animation    em    ...   \n",
       "4  ok    there  is  an  huge  temptation  to  rid...   \n",
       "\n",
       "                                              lemmas  \\\n",
       "0  [fine, piece, cinema, wong, karwai, tell, stor...   \n",
       "1  [guilty, pleasure, personally, love, great, es...   \n",
       "2  [roommate, hate, stopmotion, animation, watch,...   \n",
       "3  [good, stopmotion, animation, em, chicken, run...   \n",
       "4  [ok, huge, temptation, riddle, review, pun, m,...   \n",
       "\n",
       "                                       lemmas-joined  \\\n",
       "0  fine piece cinema wong karwai tell story peopl...   \n",
       "1  guilty pleasure personally love great escape w...   \n",
       "2  roommate hate stopmotion animation watch 2018 ...   \n",
       "3  good stopmotion animation em chicken run em wa...   \n",
       "4  ok huge temptation riddle review pun m go crac...   \n",
       "\n",
       "                                       tokens_joined  \n",
       "0  this is a fine piece of cinema from wong kar-w...  \n",
       "1  a guilty pleasure for me personally , as i lov...  \n",
       "2  made my roommate who hates stop-motion animati...  \n",
       "3  a very good stop-motion animation ! <em> ' chi...  \n",
       "4  ok , there is an huge temptation to riddle thi...  "
      ]
     },
     "execution_count": 3,
     "metadata": {},
     "output_type": "execute_result"
    }
   ],
   "source": [
    "fpath = 'Data/movie_reviews.joblib'\n",
    "df = joblib.load(fpath)\n",
    "df.head()"
   ]
  },
  {
   "cell_type": "code",
   "execution_count": 4,
   "id": "8eb0f84f-c883-47dd-b571-5c61fee865bc",
   "metadata": {
    "id": "8eb0f84f-c883-47dd-b571-5c61fee865bc",
    "outputId": "b3f92881-ab15-4ea1-8f1f-fd33f936e0a1"
   },
   "outputs": [
    {
     "name": "stdout",
     "output_type": "stream",
     "text": [
      "<class 'pandas.core.frame.DataFrame'>\n",
      "RangeIndex: 8650 entries, 0 to 8649\n",
      "Data columns (total 14 columns):\n",
      " #   Column             Non-Null Count  Dtype  \n",
      "---  ------             --------------  -----  \n",
      " 0   review_id          8650 non-null   object \n",
      " 1   movie_id           8650 non-null   int64  \n",
      " 2   imdb_id            8650 non-null   object \n",
      " 3   original_title     8650 non-null   object \n",
      " 4   review             8650 non-null   object \n",
      " 5   rating             7454 non-null   float64\n",
      " 6   ratings            2419 non-null   object \n",
      " 7   lower              8650 non-null   object \n",
      " 8   tokens             8650 non-null   object \n",
      " 9   tokens_as_strings  8650 non-null   object \n",
      " 10  clean              8650 non-null   object \n",
      " 11  lemmas             8650 non-null   object \n",
      " 12  lemmas-joined      8650 non-null   object \n",
      " 13  tokens_joined      8650 non-null   object \n",
      "dtypes: float64(1), int64(1), object(12)\n",
      "memory usage: 946.2+ KB\n"
     ]
    }
   ],
   "source": [
    "df.info()"
   ]
  },
  {
   "cell_type": "code",
   "execution_count": 22,
   "id": "7f7be1c9-b64e-4983-bc30-a317bd9a0aff",
   "metadata": {
    "id": "7f7be1c9-b64e-4983-bc30-a317bd9a0aff",
    "outputId": "71a4afde-8c14-442c-c001-cb277a792cf6"
   },
   "outputs": [
    {
     "data": {
      "text/plain": [
       "5035"
      ]
     },
     "execution_count": 22,
     "metadata": {},
     "output_type": "execute_result"
    }
   ],
   "source": [
    "# check for reviews without ratings\n",
    "df['ratings'].isna().sum()"
   ]
  },
  {
   "cell_type": "code",
   "execution_count": 23,
   "id": "300c6d6e-72aa-44f0-8811-0d4ce30c634a",
   "metadata": {
    "id": "7f7be1c9-b64e-4983-bc30-a317bd9a0aff",
    "outputId": "71a4afde-8c14-442c-c001-cb277a792cf6"
   },
   "outputs": [],
   "source": [
    "# drop reviews without ratings\n",
    "df.dropna(subset=['ratings'], inplace=True)"
   ]
  },
  {
   "cell_type": "code",
   "execution_count": 24,
   "id": "06c31b79-959f-45ee-80d2-644acc612aa3",
   "metadata": {},
   "outputs": [
    {
     "data": {
      "text/plain": [
       "0"
      ]
     },
     "execution_count": 24,
     "metadata": {},
     "output_type": "execute_result"
    }
   ],
   "source": [
    "# check for reviews without ratings\n",
    "df['ratings'].isna().sum()"
   ]
  },
  {
   "cell_type": "code",
   "execution_count": 25,
   "id": "9a50a555-69be-4d1f-abcc-0b86ff9bc275",
   "metadata": {
    "id": "9a50a555-69be-4d1f-abcc-0b86ff9bc275",
    "outputId": "bf89619e-d0a1-48e1-c0f6-b189cd7cb322"
   },
   "outputs": [
    {
     "data": {
      "text/plain": [
       "low     1224\n",
       "high    1195\n",
       "Name: ratings, dtype: int64"
      ]
     },
     "execution_count": 25,
     "metadata": {},
     "output_type": "execute_result"
    }
   ],
   "source": [
    "df['ratings'].value_counts()"
   ]
  },
  {
   "cell_type": "code",
   "execution_count": 28,
   "id": "eb881fed-1a40-4d7a-ab6f-a9ec9a2ac443",
   "metadata": {
    "id": "eb881fed-1a40-4d7a-ab6f-a9ec9a2ac443"
   },
   "outputs": [],
   "source": [
    "# assign X and y\n",
    "X = df['review']\n",
    "y = df['ratings']"
   ]
  },
  {
   "cell_type": "code",
   "execution_count": 29,
   "id": "5c0deb29-2968-4d23-a26b-84f8210edcfd",
   "metadata": {
    "id": "5c0deb29-2968-4d23-a26b-84f8210edcfd"
   },
   "outputs": [],
   "source": [
    "# train test split\n",
    "X_train, X_test, y_train, y_test = train_test_split(X,y,test_size=0.25,\n",
    "                                                    random_state=42)"
   ]
  },
  {
   "cell_type": "markdown",
   "id": "c359234b-f0a8-4069-b186-d5acd4ab8913",
   "metadata": {
    "id": "c359234b-f0a8-4069-b186-d5acd4ab8913"
   },
   "source": [
    "### Machine Learning Model"
   ]
  },
  {
   "cell_type": "markdown",
   "id": "a60cd5d6-4462-44f0-9a9a-d453e4598e84",
   "metadata": {
    "id": "a60cd5d6-4462-44f0-9a9a-d453e4598e84"
   },
   "source": [
    "#### SKLEARN"
   ]
  },
  {
   "cell_type": "code",
   "execution_count": 31,
   "id": "acd3c6fe-25c1-44aa-9cec-5cf5f83cd8af",
   "metadata": {
    "id": "acd3c6fe-25c1-44aa-9cec-5cf5f83cd8af",
    "outputId": "4d5a55a4-0548-4c32-8299-7bdfd9db5a7d"
   },
   "outputs": [
    {
     "data": {
      "text/plain": [
       "low     0.505994\n",
       "high    0.494006\n",
       "Name: ratings, dtype: float64"
      ]
     },
     "execution_count": 31,
     "metadata": {},
     "output_type": "execute_result"
    }
   ],
   "source": [
    "# check class balance\n",
    "y.value_counts(normalize=True)"
   ]
  },
  {
   "cell_type": "code",
   "execution_count": 32,
   "id": "9c47aa94-17e3-4e36-9ccf-3a2209de4e53",
   "metadata": {
    "id": "9c47aa94-17e3-4e36-9ccf-3a2209de4e53",
    "outputId": "236f9bf4-1547-4243-8603-1d0d80fb0bfd"
   },
   "outputs": [
    {
     "data": {
      "text/html": [
       "<style>#sk-container-id-3 {color: black;background-color: white;}#sk-container-id-3 pre{padding: 0;}#sk-container-id-3 div.sk-toggleable {background-color: white;}#sk-container-id-3 label.sk-toggleable__label {cursor: pointer;display: block;width: 100%;margin-bottom: 0;padding: 0.3em;box-sizing: border-box;text-align: center;}#sk-container-id-3 label.sk-toggleable__label-arrow:before {content: \"▸\";float: left;margin-right: 0.25em;color: #696969;}#sk-container-id-3 label.sk-toggleable__label-arrow:hover:before {color: black;}#sk-container-id-3 div.sk-estimator:hover label.sk-toggleable__label-arrow:before {color: black;}#sk-container-id-3 div.sk-toggleable__content {max-height: 0;max-width: 0;overflow: hidden;text-align: left;background-color: #f0f8ff;}#sk-container-id-3 div.sk-toggleable__content pre {margin: 0.2em;color: black;border-radius: 0.25em;background-color: #f0f8ff;}#sk-container-id-3 input.sk-toggleable__control:checked~div.sk-toggleable__content {max-height: 200px;max-width: 100%;overflow: auto;}#sk-container-id-3 input.sk-toggleable__control:checked~label.sk-toggleable__label-arrow:before {content: \"▾\";}#sk-container-id-3 div.sk-estimator input.sk-toggleable__control:checked~label.sk-toggleable__label {background-color: #d4ebff;}#sk-container-id-3 div.sk-label input.sk-toggleable__control:checked~label.sk-toggleable__label {background-color: #d4ebff;}#sk-container-id-3 input.sk-hidden--visually {border: 0;clip: rect(1px 1px 1px 1px);clip: rect(1px, 1px, 1px, 1px);height: 1px;margin: -1px;overflow: hidden;padding: 0;position: absolute;width: 1px;}#sk-container-id-3 div.sk-estimator {font-family: monospace;background-color: #f0f8ff;border: 1px dotted black;border-radius: 0.25em;box-sizing: border-box;margin-bottom: 0.5em;}#sk-container-id-3 div.sk-estimator:hover {background-color: #d4ebff;}#sk-container-id-3 div.sk-parallel-item::after {content: \"\";width: 100%;border-bottom: 1px solid gray;flex-grow: 1;}#sk-container-id-3 div.sk-label:hover label.sk-toggleable__label {background-color: #d4ebff;}#sk-container-id-3 div.sk-serial::before {content: \"\";position: absolute;border-left: 1px solid gray;box-sizing: border-box;top: 0;bottom: 0;left: 50%;z-index: 0;}#sk-container-id-3 div.sk-serial {display: flex;flex-direction: column;align-items: center;background-color: white;padding-right: 0.2em;padding-left: 0.2em;position: relative;}#sk-container-id-3 div.sk-item {position: relative;z-index: 1;}#sk-container-id-3 div.sk-parallel {display: flex;align-items: stretch;justify-content: center;background-color: white;position: relative;}#sk-container-id-3 div.sk-item::before, #sk-container-id-3 div.sk-parallel-item::before {content: \"\";position: absolute;border-left: 1px solid gray;box-sizing: border-box;top: 0;bottom: 0;left: 50%;z-index: -1;}#sk-container-id-3 div.sk-parallel-item {display: flex;flex-direction: column;z-index: 1;position: relative;background-color: white;}#sk-container-id-3 div.sk-parallel-item:first-child::after {align-self: flex-end;width: 50%;}#sk-container-id-3 div.sk-parallel-item:last-child::after {align-self: flex-start;width: 50%;}#sk-container-id-3 div.sk-parallel-item:only-child::after {width: 0;}#sk-container-id-3 div.sk-dashed-wrapped {border: 1px dashed gray;margin: 0 0.4em 0.5em 0.4em;box-sizing: border-box;padding-bottom: 0.4em;background-color: white;}#sk-container-id-3 div.sk-label label {font-family: monospace;font-weight: bold;display: inline-block;line-height: 1.2em;}#sk-container-id-3 div.sk-label-container {text-align: center;}#sk-container-id-3 div.sk-container {/* jupyter's `normalize.less` sets `[hidden] { display: none; }` but bootstrap.min.css set `[hidden] { display: none !important; }` so we also need the `!important` here to be able to override the default hidden behavior on the sphinx rendered scikit-learn.org. See: https://github.com/scikit-learn/scikit-learn/issues/21755 */display: inline-block !important;position: relative;}#sk-container-id-3 div.sk-text-repr-fallback {display: none;}</style><div id=\"sk-container-id-3\" class=\"sk-top-container\"><div class=\"sk-text-repr-fallback\"><pre>Pipeline(steps=[(&#x27;vectorizer&#x27;, CountVectorizer(stop_words=&#x27;english&#x27;)),\n",
       "                (&#x27;clf&#x27;, RandomForestClassifier(random_state=42))])</pre><b>In a Jupyter environment, please rerun this cell to show the HTML representation or trust the notebook. <br />On GitHub, the HTML representation is unable to render, please try loading this page with nbviewer.org.</b></div><div class=\"sk-container\" hidden><div class=\"sk-item sk-dashed-wrapped\"><div class=\"sk-label-container\"><div class=\"sk-label sk-toggleable\"><input class=\"sk-toggleable__control sk-hidden--visually\" id=\"sk-estimator-id-7\" type=\"checkbox\" ><label for=\"sk-estimator-id-7\" class=\"sk-toggleable__label sk-toggleable__label-arrow\">Pipeline</label><div class=\"sk-toggleable__content\"><pre>Pipeline(steps=[(&#x27;vectorizer&#x27;, CountVectorizer(stop_words=&#x27;english&#x27;)),\n",
       "                (&#x27;clf&#x27;, RandomForestClassifier(random_state=42))])</pre></div></div></div><div class=\"sk-serial\"><div class=\"sk-item\"><div class=\"sk-estimator sk-toggleable\"><input class=\"sk-toggleable__control sk-hidden--visually\" id=\"sk-estimator-id-8\" type=\"checkbox\" ><label for=\"sk-estimator-id-8\" class=\"sk-toggleable__label sk-toggleable__label-arrow\">CountVectorizer</label><div class=\"sk-toggleable__content\"><pre>CountVectorizer(stop_words=&#x27;english&#x27;)</pre></div></div></div><div class=\"sk-item\"><div class=\"sk-estimator sk-toggleable\"><input class=\"sk-toggleable__control sk-hidden--visually\" id=\"sk-estimator-id-9\" type=\"checkbox\" ><label for=\"sk-estimator-id-9\" class=\"sk-toggleable__label sk-toggleable__label-arrow\">RandomForestClassifier</label><div class=\"sk-toggleable__content\"><pre>RandomForestClassifier(random_state=42)</pre></div></div></div></div></div></div></div>"
      ],
      "text/plain": [
       "Pipeline(steps=[('vectorizer', CountVectorizer(stop_words='english')),\n",
       "                ('clf', RandomForestClassifier(random_state=42))])"
      ]
     },
     "execution_count": 32,
     "metadata": {},
     "output_type": "execute_result"
    }
   ],
   "source": [
    "## Create a pipeline with a vectorizer and classification model.\n",
    "clf_pipe = Pipeline([('vectorizer', CountVectorizer(stop_words='english')),\n",
    "                     ('clf',RandomForestClassifier(random_state=42))])\n",
    "clf_pipe"
   ]
  },
  {
   "cell_type": "code",
   "execution_count": 33,
   "id": "8dd44d92-b287-4f98-a280-9696f4dd1fba",
   "metadata": {
    "id": "8dd44d92-b287-4f98-a280-9696f4dd1fba",
    "outputId": "4ac50f52-5656-44a5-c27e-92bb7b2c2d26"
   },
   "outputs": [
    {
     "data": {
      "text/html": [
       "<style>#sk-container-id-4 {color: black;background-color: white;}#sk-container-id-4 pre{padding: 0;}#sk-container-id-4 div.sk-toggleable {background-color: white;}#sk-container-id-4 label.sk-toggleable__label {cursor: pointer;display: block;width: 100%;margin-bottom: 0;padding: 0.3em;box-sizing: border-box;text-align: center;}#sk-container-id-4 label.sk-toggleable__label-arrow:before {content: \"▸\";float: left;margin-right: 0.25em;color: #696969;}#sk-container-id-4 label.sk-toggleable__label-arrow:hover:before {color: black;}#sk-container-id-4 div.sk-estimator:hover label.sk-toggleable__label-arrow:before {color: black;}#sk-container-id-4 div.sk-toggleable__content {max-height: 0;max-width: 0;overflow: hidden;text-align: left;background-color: #f0f8ff;}#sk-container-id-4 div.sk-toggleable__content pre {margin: 0.2em;color: black;border-radius: 0.25em;background-color: #f0f8ff;}#sk-container-id-4 input.sk-toggleable__control:checked~div.sk-toggleable__content {max-height: 200px;max-width: 100%;overflow: auto;}#sk-container-id-4 input.sk-toggleable__control:checked~label.sk-toggleable__label-arrow:before {content: \"▾\";}#sk-container-id-4 div.sk-estimator input.sk-toggleable__control:checked~label.sk-toggleable__label {background-color: #d4ebff;}#sk-container-id-4 div.sk-label input.sk-toggleable__control:checked~label.sk-toggleable__label {background-color: #d4ebff;}#sk-container-id-4 input.sk-hidden--visually {border: 0;clip: rect(1px 1px 1px 1px);clip: rect(1px, 1px, 1px, 1px);height: 1px;margin: -1px;overflow: hidden;padding: 0;position: absolute;width: 1px;}#sk-container-id-4 div.sk-estimator {font-family: monospace;background-color: #f0f8ff;border: 1px dotted black;border-radius: 0.25em;box-sizing: border-box;margin-bottom: 0.5em;}#sk-container-id-4 div.sk-estimator:hover {background-color: #d4ebff;}#sk-container-id-4 div.sk-parallel-item::after {content: \"\";width: 100%;border-bottom: 1px solid gray;flex-grow: 1;}#sk-container-id-4 div.sk-label:hover label.sk-toggleable__label {background-color: #d4ebff;}#sk-container-id-4 div.sk-serial::before {content: \"\";position: absolute;border-left: 1px solid gray;box-sizing: border-box;top: 0;bottom: 0;left: 50%;z-index: 0;}#sk-container-id-4 div.sk-serial {display: flex;flex-direction: column;align-items: center;background-color: white;padding-right: 0.2em;padding-left: 0.2em;position: relative;}#sk-container-id-4 div.sk-item {position: relative;z-index: 1;}#sk-container-id-4 div.sk-parallel {display: flex;align-items: stretch;justify-content: center;background-color: white;position: relative;}#sk-container-id-4 div.sk-item::before, #sk-container-id-4 div.sk-parallel-item::before {content: \"\";position: absolute;border-left: 1px solid gray;box-sizing: border-box;top: 0;bottom: 0;left: 50%;z-index: -1;}#sk-container-id-4 div.sk-parallel-item {display: flex;flex-direction: column;z-index: 1;position: relative;background-color: white;}#sk-container-id-4 div.sk-parallel-item:first-child::after {align-self: flex-end;width: 50%;}#sk-container-id-4 div.sk-parallel-item:last-child::after {align-self: flex-start;width: 50%;}#sk-container-id-4 div.sk-parallel-item:only-child::after {width: 0;}#sk-container-id-4 div.sk-dashed-wrapped {border: 1px dashed gray;margin: 0 0.4em 0.5em 0.4em;box-sizing: border-box;padding-bottom: 0.4em;background-color: white;}#sk-container-id-4 div.sk-label label {font-family: monospace;font-weight: bold;display: inline-block;line-height: 1.2em;}#sk-container-id-4 div.sk-label-container {text-align: center;}#sk-container-id-4 div.sk-container {/* jupyter's `normalize.less` sets `[hidden] { display: none; }` but bootstrap.min.css set `[hidden] { display: none !important; }` so we also need the `!important` here to be able to override the default hidden behavior on the sphinx rendered scikit-learn.org. See: https://github.com/scikit-learn/scikit-learn/issues/21755 */display: inline-block !important;position: relative;}#sk-container-id-4 div.sk-text-repr-fallback {display: none;}</style><div id=\"sk-container-id-4\" class=\"sk-top-container\"><div class=\"sk-text-repr-fallback\"><pre>Pipeline(steps=[(&#x27;vectorizer&#x27;, CountVectorizer(stop_words=&#x27;english&#x27;)),\n",
       "                (&#x27;clf&#x27;, RandomForestClassifier(random_state=42))])</pre><b>In a Jupyter environment, please rerun this cell to show the HTML representation or trust the notebook. <br />On GitHub, the HTML representation is unable to render, please try loading this page with nbviewer.org.</b></div><div class=\"sk-container\" hidden><div class=\"sk-item sk-dashed-wrapped\"><div class=\"sk-label-container\"><div class=\"sk-label sk-toggleable\"><input class=\"sk-toggleable__control sk-hidden--visually\" id=\"sk-estimator-id-10\" type=\"checkbox\" ><label for=\"sk-estimator-id-10\" class=\"sk-toggleable__label sk-toggleable__label-arrow\">Pipeline</label><div class=\"sk-toggleable__content\"><pre>Pipeline(steps=[(&#x27;vectorizer&#x27;, CountVectorizer(stop_words=&#x27;english&#x27;)),\n",
       "                (&#x27;clf&#x27;, RandomForestClassifier(random_state=42))])</pre></div></div></div><div class=\"sk-serial\"><div class=\"sk-item\"><div class=\"sk-estimator sk-toggleable\"><input class=\"sk-toggleable__control sk-hidden--visually\" id=\"sk-estimator-id-11\" type=\"checkbox\" ><label for=\"sk-estimator-id-11\" class=\"sk-toggleable__label sk-toggleable__label-arrow\">CountVectorizer</label><div class=\"sk-toggleable__content\"><pre>CountVectorizer(stop_words=&#x27;english&#x27;)</pre></div></div></div><div class=\"sk-item\"><div class=\"sk-estimator sk-toggleable\"><input class=\"sk-toggleable__control sk-hidden--visually\" id=\"sk-estimator-id-12\" type=\"checkbox\" ><label for=\"sk-estimator-id-12\" class=\"sk-toggleable__label sk-toggleable__label-arrow\">RandomForestClassifier</label><div class=\"sk-toggleable__content\"><pre>RandomForestClassifier(random_state=42)</pre></div></div></div></div></div></div></div>"
      ],
      "text/plain": [
       "Pipeline(steps=[('vectorizer', CountVectorizer(stop_words='english')),\n",
       "                ('clf', RandomForestClassifier(random_state=42))])"
      ]
     },
     "execution_count": 33,
     "metadata": {},
     "output_type": "execute_result"
    }
   ],
   "source": [
    "# fit model pipeline\n",
    "clf_pipe.fit(X_train, y_train)"
   ]
  },
  {
   "cell_type": "code",
   "execution_count": 34,
   "id": "d7799dc4-dee2-4df4-9166-236e9e48302c",
   "metadata": {
    "id": "d7799dc4-dee2-4df4-9166-236e9e48302c",
    "outputId": "551b5ab0-1b50-44ad-eb1c-6ce8917f7bc7"
   },
   "outputs": [
    {
     "name": "stdout",
     "output_type": "stream",
     "text": [
      "----------------------------------------------------------------------\n",
      " Classification Metrics: Training Data\n",
      "----------------------------------------------------------------------\n",
      "              precision    recall  f1-score   support\n",
      "\n",
      "        high       1.00      1.00      1.00       888\n",
      "         low       1.00      1.00      1.00       926\n",
      "\n",
      "    accuracy                           1.00      1814\n",
      "   macro avg       1.00      1.00      1.00      1814\n",
      "weighted avg       1.00      1.00      1.00      1814\n",
      "\n"
     ]
    },
    {
     "data": {
      "image/png": "[encoded data removed]",
      "text/plain": [
       "<Figure size 600x400 with 2 Axes>"
      ]
     },
     "metadata": {},
     "output_type": "display_data"
    },
    {
     "name": "stdout",
     "output_type": "stream",
     "text": [
      "\n",
      "----------------------------------------------------------------------\n",
      " Classification Metrics: Test Data\n",
      "----------------------------------------------------------------------\n",
      "              precision    recall  f1-score   support\n",
      "\n",
      "        high       0.83      0.85      0.84       307\n",
      "         low       0.84      0.82      0.83       298\n",
      "\n",
      "    accuracy                           0.84       605\n",
      "   macro avg       0.84      0.84      0.84       605\n",
      "weighted avg       0.84      0.84      0.84       605\n",
      "\n"
     ]
    },
    {
     "data": {
      "image/png": "[encoded data removed]",
      "text/plain": [
       "<Figure size 600x400 with 2 Axes>"
      ]
     },
     "metadata": {},
     "output_type": "display_data"
    }
   ],
   "source": [
    "# evaluate model\n",
    "fn.evaluate_classification(clf_pipe, X_train,y_train, X_test, y_test)"
   ]
  },
  {
   "cell_type": "markdown",
   "id": "06761b68-335a-432a-a446-cc0da0dd2975",
   "metadata": {
    "id": "06761b68-335a-432a-a446-cc0da0dd2975"
   },
   "source": [
    "##### Observations:\n",
    "- This model has an accuracy of .84\n",
    "- There is not a large difference in accuracy between classes"
   ]
  },
  {
   "cell_type": "markdown",
   "id": "d5f6f7a1-f610-403f-a091-78f890bad347",
   "metadata": {
    "id": "d5f6f7a1-f610-403f-a091-78f890bad347"
   },
   "source": [
    "#### GridSearch Text Vectorization"
   ]
  },
  {
   "cell_type": "code",
   "execution_count": 35,
   "id": "b53ce4b9-dbbf-4e03-8684-311e2a6b0411",
   "metadata": {
    "id": "b53ce4b9-dbbf-4e03-8684-311e2a6b0411"
   },
   "outputs": [],
   "source": [
    "# Define params to try\n",
    "param_grid_shared = {\n",
    "    \"vectorizer__max_df\": [0.6, 0.7, 0.8],\n",
    "    \"vectorizer__min_df\": [2,3,4],\n",
    "    \"vectorizer__max_features\": [None, 1000, 2000],\n",
    "    \"vectorizer__stop_words\": [None,'english'],\n",
    "    \"vectorizer__ngram_range\": [(1, 1), (1, 2), (1,3)]\n",
    "}"
   ]
  },
  {
   "cell_type": "code",
   "execution_count": 36,
   "id": "9e8668a4-c9b5-45d9-a39a-cba176194881",
   "metadata": {
    "id": "9e8668a4-c9b5-45d9-a39a-cba176194881"
   },
   "outputs": [],
   "source": [
    "# Setting params for the count vectorizer\n",
    "param_grid_count = {\n",
    "    'vectorizer':[CountVectorizer()],\n",
    "    **param_grid_shared\n",
    "}"
   ]
  },
  {
   "cell_type": "code",
   "execution_count": 37,
   "id": "8e84b273-70f6-4142-828a-3a5b5e31cf84",
   "metadata": {
    "id": "8e84b273-70f6-4142-828a-3a5b5e31cf84"
   },
   "outputs": [],
   "source": [
    "# Set up Pipeline to allow GridSearching\n",
    "v_pipe = Pipeline([('vectorizer', CountVectorizer()),\n",
    "                     ('clf',RandomForestClassifier(random_state=42))])"
   ]
  },
  {
   "cell_type": "code",
   "execution_count": 38,
   "id": "bc4c4e1f-3659-40d6-a27b-13f542f7a9ff",
   "metadata": {
    "id": "bc4c4e1f-3659-40d6-a27b-13f542f7a9ff",
    "outputId": "63b041c8-de9a-4f66-b403-96c3d4b6f763"
   },
   "outputs": [
    {
     "name": "stdout",
     "output_type": "stream",
     "text": [
      "CPU times: total: 0 ns\n",
      "Wall time: 0 ns\n"
     ]
    }
   ],
   "source": [
    "%%time\n",
    "# Create grid search\n",
    "grid_search = GridSearchCV(v_pipe, param_grid_shared, cv=2, scoring = 'accuracy', verbose=1, n_jobs=-1)"
   ]
  },
  {
   "cell_type": "code",
   "execution_count": 39,
   "id": "d1fbaab8-c025-4990-8a4c-03d34f6678b8",
   "metadata": {
    "id": "d1fbaab8-c025-4990-8a4c-03d34f6678b8",
    "outputId": "c67ed315-d744-4037-82f8-2dc0b6279c88"
   },
   "outputs": [
    {
     "name": "stdout",
     "output_type": "stream",
     "text": [
      "Fitting 2 folds for each of 162 candidates, totalling 324 fits\n",
      "CPU times: total: 4.52 s\n",
      "Wall time: 3min 13s\n"
     ]
    },
    {
     "data": {
      "text/html": [
       "<style>#sk-container-id-5 {color: black;background-color: white;}#sk-container-id-5 pre{padding: 0;}#sk-container-id-5 div.sk-toggleable {background-color: white;}#sk-container-id-5 label.sk-toggleable__label {cursor: pointer;display: block;width: 100%;margin-bottom: 0;padding: 0.3em;box-sizing: border-box;text-align: center;}#sk-container-id-5 label.sk-toggleable__label-arrow:before {content: \"▸\";float: left;margin-right: 0.25em;color: #696969;}#sk-container-id-5 label.sk-toggleable__label-arrow:hover:before {color: black;}#sk-container-id-5 div.sk-estimator:hover label.sk-toggleable__label-arrow:before {color: black;}#sk-container-id-5 div.sk-toggleable__content {max-height: 0;max-width: 0;overflow: hidden;text-align: left;background-color: #f0f8ff;}#sk-container-id-5 div.sk-toggleable__content pre {margin: 0.2em;color: black;border-radius: 0.25em;background-color: #f0f8ff;}#sk-container-id-5 input.sk-toggleable__control:checked~div.sk-toggleable__content {max-height: 200px;max-width: 100%;overflow: auto;}#sk-container-id-5 input.sk-toggleable__control:checked~label.sk-toggleable__label-arrow:before {content: \"▾\";}#sk-container-id-5 div.sk-estimator input.sk-toggleable__control:checked~label.sk-toggleable__label {background-color: #d4ebff;}#sk-container-id-5 div.sk-label input.sk-toggleable__control:checked~label.sk-toggleable__label {background-color: #d4ebff;}#sk-container-id-5 input.sk-hidden--visually {border: 0;clip: rect(1px 1px 1px 1px);clip: rect(1px, 1px, 1px, 1px);height: 1px;margin: -1px;overflow: hidden;padding: 0;position: absolute;width: 1px;}#sk-container-id-5 div.sk-estimator {font-family: monospace;background-color: #f0f8ff;border: 1px dotted black;border-radius: 0.25em;box-sizing: border-box;margin-bottom: 0.5em;}#sk-container-id-5 div.sk-estimator:hover {background-color: #d4ebff;}#sk-container-id-5 div.sk-parallel-item::after {content: \"\";width: 100%;border-bottom: 1px solid gray;flex-grow: 1;}#sk-container-id-5 div.sk-label:hover label.sk-toggleable__label {background-color: #d4ebff;}#sk-container-id-5 div.sk-serial::before {content: \"\";position: absolute;border-left: 1px solid gray;box-sizing: border-box;top: 0;bottom: 0;left: 50%;z-index: 0;}#sk-container-id-5 div.sk-serial {display: flex;flex-direction: column;align-items: center;background-color: white;padding-right: 0.2em;padding-left: 0.2em;position: relative;}#sk-container-id-5 div.sk-item {position: relative;z-index: 1;}#sk-container-id-5 div.sk-parallel {display: flex;align-items: stretch;justify-content: center;background-color: white;position: relative;}#sk-container-id-5 div.sk-item::before, #sk-container-id-5 div.sk-parallel-item::before {content: \"\";position: absolute;border-left: 1px solid gray;box-sizing: border-box;top: 0;bottom: 0;left: 50%;z-index: -1;}#sk-container-id-5 div.sk-parallel-item {display: flex;flex-direction: column;z-index: 1;position: relative;background-color: white;}#sk-container-id-5 div.sk-parallel-item:first-child::after {align-self: flex-end;width: 50%;}#sk-container-id-5 div.sk-parallel-item:last-child::after {align-self: flex-start;width: 50%;}#sk-container-id-5 div.sk-parallel-item:only-child::after {width: 0;}#sk-container-id-5 div.sk-dashed-wrapped {border: 1px dashed gray;margin: 0 0.4em 0.5em 0.4em;box-sizing: border-box;padding-bottom: 0.4em;background-color: white;}#sk-container-id-5 div.sk-label label {font-family: monospace;font-weight: bold;display: inline-block;line-height: 1.2em;}#sk-container-id-5 div.sk-label-container {text-align: center;}#sk-container-id-5 div.sk-container {/* jupyter's `normalize.less` sets `[hidden] { display: none; }` but bootstrap.min.css set `[hidden] { display: none !important; }` so we also need the `!important` here to be able to override the default hidden behavior on the sphinx rendered scikit-learn.org. See: https://github.com/scikit-learn/scikit-learn/issues/21755 */display: inline-block !important;position: relative;}#sk-container-id-5 div.sk-text-repr-fallback {display: none;}</style><div id=\"sk-container-id-5\" class=\"sk-top-container\"><div class=\"sk-text-repr-fallback\"><pre>GridSearchCV(cv=2,\n",
       "             estimator=Pipeline(steps=[(&#x27;vectorizer&#x27;, CountVectorizer()),\n",
       "                                       (&#x27;clf&#x27;,\n",
       "                                        RandomForestClassifier(random_state=42))]),\n",
       "             n_jobs=-1,\n",
       "             param_grid={&#x27;vectorizer__max_df&#x27;: [0.6, 0.7, 0.8],\n",
       "                         &#x27;vectorizer__max_features&#x27;: [None, 1000, 2000],\n",
       "                         &#x27;vectorizer__min_df&#x27;: [2, 3, 4],\n",
       "                         &#x27;vectorizer__ngram_range&#x27;: [(1, 1), (1, 2), (1, 3)],\n",
       "                         &#x27;vectorizer__stop_words&#x27;: [None, &#x27;english&#x27;]},\n",
       "             scoring=&#x27;accuracy&#x27;, verbose=1)</pre><b>In a Jupyter environment, please rerun this cell to show the HTML representation or trust the notebook. <br />On GitHub, the HTML representation is unable to render, please try loading this page with nbviewer.org.</b></div><div class=\"sk-container\" hidden><div class=\"sk-item sk-dashed-wrapped\"><div class=\"sk-label-container\"><div class=\"sk-label sk-toggleable\"><input class=\"sk-toggleable__control sk-hidden--visually\" id=\"sk-estimator-id-13\" type=\"checkbox\" ><label for=\"sk-estimator-id-13\" class=\"sk-toggleable__label sk-toggleable__label-arrow\">GridSearchCV</label><div class=\"sk-toggleable__content\"><pre>GridSearchCV(cv=2,\n",
       "             estimator=Pipeline(steps=[(&#x27;vectorizer&#x27;, CountVectorizer()),\n",
       "                                       (&#x27;clf&#x27;,\n",
       "                                        RandomForestClassifier(random_state=42))]),\n",
       "             n_jobs=-1,\n",
       "             param_grid={&#x27;vectorizer__max_df&#x27;: [0.6, 0.7, 0.8],\n",
       "                         &#x27;vectorizer__max_features&#x27;: [None, 1000, 2000],\n",
       "                         &#x27;vectorizer__min_df&#x27;: [2, 3, 4],\n",
       "                         &#x27;vectorizer__ngram_range&#x27;: [(1, 1), (1, 2), (1, 3)],\n",
       "                         &#x27;vectorizer__stop_words&#x27;: [None, &#x27;english&#x27;]},\n",
       "             scoring=&#x27;accuracy&#x27;, verbose=1)</pre></div></div></div><div class=\"sk-parallel\"><div class=\"sk-parallel-item\"><div class=\"sk-item\"><div class=\"sk-label-container\"><div class=\"sk-label sk-toggleable\"><input class=\"sk-toggleable__control sk-hidden--visually\" id=\"sk-estimator-id-14\" type=\"checkbox\" ><label for=\"sk-estimator-id-14\" class=\"sk-toggleable__label sk-toggleable__label-arrow\">estimator: Pipeline</label><div class=\"sk-toggleable__content\"><pre>Pipeline(steps=[(&#x27;vectorizer&#x27;, CountVectorizer()),\n",
       "                (&#x27;clf&#x27;, RandomForestClassifier(random_state=42))])</pre></div></div></div><div class=\"sk-serial\"><div class=\"sk-item\"><div class=\"sk-serial\"><div class=\"sk-item\"><div class=\"sk-estimator sk-toggleable\"><input class=\"sk-toggleable__control sk-hidden--visually\" id=\"sk-estimator-id-15\" type=\"checkbox\" ><label for=\"sk-estimator-id-15\" class=\"sk-toggleable__label sk-toggleable__label-arrow\">CountVectorizer</label><div class=\"sk-toggleable__content\"><pre>CountVectorizer()</pre></div></div></div><div class=\"sk-item\"><div class=\"sk-estimator sk-toggleable\"><input class=\"sk-toggleable__control sk-hidden--visually\" id=\"sk-estimator-id-16\" type=\"checkbox\" ><label for=\"sk-estimator-id-16\" class=\"sk-toggleable__label sk-toggleable__label-arrow\">RandomForestClassifier</label><div class=\"sk-toggleable__content\"><pre>RandomForestClassifier(random_state=42)</pre></div></div></div></div></div></div></div></div></div></div></div></div>"
      ],
      "text/plain": [
       "GridSearchCV(cv=2,\n",
       "             estimator=Pipeline(steps=[('vectorizer', CountVectorizer()),\n",
       "                                       ('clf',\n",
       "                                        RandomForestClassifier(random_state=42))]),\n",
       "             n_jobs=-1,\n",
       "             param_grid={'vectorizer__max_df': [0.6, 0.7, 0.8],\n",
       "                         'vectorizer__max_features': [None, 1000, 2000],\n",
       "                         'vectorizer__min_df': [2, 3, 4],\n",
       "                         'vectorizer__ngram_range': [(1, 1), (1, 2), (1, 3)],\n",
       "                         'vectorizer__stop_words': [None, 'english']},\n",
       "             scoring='accuracy', verbose=1)"
      ]
     },
     "execution_count": 39,
     "metadata": {},
     "output_type": "execute_result"
    }
   ],
   "source": [
    "%%time\n",
    "# Fit the model\n",
    "grid_search.fit(X_train, y_train)"
   ]
  },
  {
   "cell_type": "code",
   "execution_count": 40,
   "id": "bd43877d-c5b2-45f8-a150-7f19a4be90ae",
   "metadata": {
    "id": "bd43877d-c5b2-45f8-a150-7f19a4be90ae",
    "outputId": "e17af9a0-0f09-419e-caa3-31a8497e7d66"
   },
   "outputs": [
    {
     "data": {
      "text/plain": [
       "{'vectorizer__max_df': 0.6,\n",
       " 'vectorizer__max_features': 1000,\n",
       " 'vectorizer__min_df': 4,\n",
       " 'vectorizer__ngram_range': (1, 1),\n",
       " 'vectorizer__stop_words': 'english'}"
      ]
     },
     "execution_count": 40,
     "metadata": {},
     "output_type": "execute_result"
    }
   ],
   "source": [
    "# what were the best params?\n",
    "grid_search.best_params_"
   ]
  },
  {
   "cell_type": "code",
   "execution_count": 41,
   "id": "fa7b9423-9637-4a11-859c-f9a3441c37fd",
   "metadata": {
    "id": "fa7b9423-9637-4a11-859c-f9a3441c37fd",
    "outputId": "39d433fb-a7c0-4df2-c85c-a260583ca33d"
   },
   "outputs": [
    {
     "name": "stdout",
     "output_type": "stream",
     "text": [
      "----------------------------------------------------------------------\n",
      " Classification Metrics: Training Data\n",
      "----------------------------------------------------------------------\n",
      "              precision    recall  f1-score   support\n",
      "\n",
      "        high       1.00      1.00      1.00       888\n",
      "         low       1.00      1.00      1.00       926\n",
      "\n",
      "    accuracy                           1.00      1814\n",
      "   macro avg       1.00      1.00      1.00      1814\n",
      "weighted avg       1.00      1.00      1.00      1814\n",
      "\n"
     ]
    },
    {
     "data": {
      "image/png": "[encoded data removed]",
      "text/plain": [
       "<Figure size 600x400 with 2 Axes>"
      ]
     },
     "metadata": {},
     "output_type": "display_data"
    },
    {
     "name": "stdout",
     "output_type": "stream",
     "text": [
      "\n",
      "----------------------------------------------------------------------\n",
      " Classification Metrics: Test Data\n",
      "----------------------------------------------------------------------\n",
      "              precision    recall  f1-score   support\n",
      "\n",
      "        high       0.83      0.83      0.83       307\n",
      "         low       0.82      0.82      0.82       298\n",
      "\n",
      "    accuracy                           0.83       605\n",
      "   macro avg       0.83      0.83      0.83       605\n",
      "weighted avg       0.83      0.83      0.83       605\n",
      "\n"
     ]
    },
    {
     "data": {
      "image/png": "[encoded data removed]",
      "text/plain": [
       "<Figure size 600x400 with 2 Axes>"
      ]
     },
     "metadata": {},
     "output_type": "display_data"
    }
   ],
   "source": [
    "best_model = grid_search.best_estimator_\n",
    "\n",
    "fn.evaluate_classification(best_model,X_train,y_train,X_test,y_test)"
   ]
  },
  {
   "cell_type": "markdown",
   "id": "09c23448-7d30-4bfc-883d-beec2ce5b824",
   "metadata": {
    "id": "09c23448-7d30-4bfc-883d-beec2ce5b824"
   },
   "source": [
    "##### Observations:\n",
    "- With best parameters the gridsearch an accuracy of .83"
   ]
  },
  {
   "cell_type": "markdown",
   "id": "e57993cf-e2d1-44fb-9733-c589111340c9",
   "metadata": {
    "id": "e57993cf-e2d1-44fb-9733-c589111340c9"
   },
   "source": [
    "### Deep NLP"
   ]
  },
  {
   "cell_type": "markdown",
   "id": "584e4946-8a80-443c-947e-fb15fe8977d5",
   "metadata": {
    "id": "584e4946-8a80-443c-947e-fb15fe8977d5"
   },
   "source": [
    "#### Prep / Train Dataset"
   ]
  },
  {
   "cell_type": "code",
   "execution_count": 42,
   "id": "cd6bcf90-e132-4d7b-829f-91568a73e88e",
   "metadata": {
    "id": "cd6bcf90-e132-4d7b-829f-91568a73e88e"
   },
   "outputs": [],
   "source": [
    "# instantiate LabelEncoder\n",
    "encoder = LabelEncoder()"
   ]
  },
  {
   "cell_type": "code",
   "execution_count": 43,
   "id": "99ad12be-6359-4177-81ab-8f40c59c1f78",
   "metadata": {
    "id": "99ad12be-6359-4177-81ab-8f40c59c1f78",
    "outputId": "06152aa6-c016-4d6e-86dd-22cb1b21dc49"
   },
   "outputs": [
    {
     "data": {
      "text/plain": [
       "1    1224\n",
       "0    1195\n",
       "dtype: int64"
      ]
     },
     "execution_count": 43,
     "metadata": {},
     "output_type": "execute_result"
    }
   ],
   "source": [
    "# Fit and Transform the strings into integers\n",
    "y = pd.Series(encoder.fit_transform(y))\n",
    "y.value_counts()"
   ]
  },
  {
   "cell_type": "code",
   "execution_count": 44,
   "id": "f01aec4b-a864-4fe6-b787-be93c650c4bb",
   "metadata": {
    "id": "f01aec4b-a864-4fe6-b787-be93c650c4bb",
    "outputId": "61d625d7-8b70-41db-deb8-d64c6d9ffa37"
   },
   "outputs": [
    {
     "data": {
      "text/plain": [
       "<_TensorSliceDataset element_spec=(TensorSpec(shape=(), dtype=tf.string, name=None), TensorSpec(shape=(), dtype=tf.int32, name=None))>"
      ]
     },
     "execution_count": 44,
     "metadata": {},
     "output_type": "execute_result"
    }
   ],
   "source": [
    "# Convert to Dataset object\n",
    "ds = tf.data.Dataset.from_tensor_slices((X, y))\n",
    "ds"
   ]
  },
  {
   "cell_type": "code",
   "execution_count": 45,
   "id": "97dea416-ea78-49b7-8b84-e910c4bc3570",
   "metadata": {
    "id": "97dea416-ea78-49b7-8b84-e910c4bc3570"
   },
   "outputs": [],
   "source": [
    "# shuffle data once\n",
    "ds = ds.shuffle(buffer_size=len(ds), reshuffle_each_iteration=False)"
   ]
  },
  {
   "cell_type": "code",
   "execution_count": 46,
   "id": "94fb1be0-fdfc-4281-9434-c4b54f3496d1",
   "metadata": {
    "id": "94fb1be0-fdfc-4281-9434-c4b54f3496d1"
   },
   "outputs": [],
   "source": [
    "# Add a column to the dataframe that has the length of each paragraph\n",
    "df['sequence_length'] = df['review'].map( lambda x: len(x.split(\" \")))"
   ]
  },
  {
   "cell_type": "code",
   "execution_count": 47,
   "id": "1211cbb9-310c-447b-821f-1a9315f2ea2f",
   "metadata": {
    "id": "1211cbb9-310c-447b-821f-1a9315f2ea2f",
    "outputId": "cd4cd05f-ba02-4ed1-9d8f-633915b9853f"
   },
   "outputs": [
    {
     "data": {
      "text/plain": [
       "count    2419.000000\n",
       "mean      225.767673\n",
       "std       270.815728\n",
       "min         1.000000\n",
       "25%        62.000000\n",
       "50%       143.000000\n",
       "75%       286.500000\n",
       "max      4017.000000\n",
       "Name: sequence_length, dtype: float64"
      ]
     },
     "execution_count": 47,
     "metadata": {},
     "output_type": "execute_result"
    }
   ],
   "source": [
    "\n",
    "df['sequence_length'].describe()"
   ]
  },
  {
   "cell_type": "code",
   "execution_count": 48,
   "id": "10955be7-79f5-459c-99d2-1f9bec6c682b",
   "metadata": {
    "id": "10955be7-79f5-459c-99d2-1f9bec6c682b"
   },
   "outputs": [],
   "source": [
    "# maximum length = sequence length max\n",
    "SEQUENCE_LENGTH = 4017"
   ]
  },
  {
   "cell_type": "code",
   "execution_count": 49,
   "id": "7d28912d-3336-4653-98af-ed84495b0425",
   "metadata": {
    "id": "7d28912d-3336-4653-98af-ed84495b0425"
   },
   "outputs": [],
   "source": [
    "# Set the ratio of the train, validation, test split\n",
    "split_train = .7\n",
    "split_val =  .2\n",
    "split_test =  1 -( split_train + split_val )"
   ]
  },
  {
   "cell_type": "code",
   "execution_count": 50,
   "id": "11000bd6-f6f3-4170-a681-63487da56712",
   "metadata": {
    "id": "11000bd6-f6f3-4170-a681-63487da56712"
   },
   "outputs": [],
   "source": [
    "# Calculate the number of samples for training and validation data\n",
    "n_train_samples =  int(len(ds) * split_train)\n",
    "n_val_samples = int(len(ds) * split_val)\n",
    "n_test_samples = len(ds) -(n_train_samples + n_val_samples)"
   ]
  },
  {
   "cell_type": "code",
   "execution_count": 51,
   "id": "0b59cd0b-9880-4da0-9caa-be8f52e4da21",
   "metadata": {
    "id": "0b59cd0b-9880-4da0-9caa-be8f52e4da21"
   },
   "outputs": [],
   "source": [
    "# Set the batch size\n",
    "BATCH_SIZE =32"
   ]
  },
  {
   "cell_type": "code",
   "execution_count": 52,
   "id": "14c50676-ae5e-400c-8c12-9968870e36d0",
   "metadata": {
    "id": "14c50676-ae5e-400c-8c12-9968870e36d0"
   },
   "outputs": [],
   "source": [
    "# Use take and skip to define each set\n",
    "train_ds = ds.take(n_train_samples).batch(batch_size=BATCH_SIZE)\n",
    "\n",
    "# Skip over the training batches and take the validation batches\n",
    "val_ds = ds.skip(n_train_samples).take(n_val_samples).batch(batch_size=BATCH_SIZE)\n",
    "\n",
    "# Skipver the train and validation batches, the remaining are the test batches\n",
    "test_ds = ds.skip(n_train_samples + n_val_samples).batch(batch_size=BATCH_SIZE)"
   ]
  },
  {
   "cell_type": "code",
   "execution_count": 53,
   "id": "9dd1f741-abe2-4fcf-9a08-4ad423990349",
   "metadata": {
    "id": "9dd1f741-abe2-4fcf-9a08-4ad423990349"
   },
   "outputs": [],
   "source": [
    "# Get just the text from ds_train\n",
    "ds_texts = train_ds.map(lambda x, y: x)"
   ]
  },
  {
   "cell_type": "markdown",
   "id": "f0d7350a-82f6-4fd9-9b00-0eefdc4e54af",
   "metadata": {
    "id": "f0d7350a-82f6-4fd9-9b00-0eefdc4e54af"
   },
   "source": [
    "#### Creating Keras Text Vectorization Layer"
   ]
  },
  {
   "cell_type": "code",
   "execution_count": 54,
   "id": "d6afa16c-855f-452a-9bbc-05fdc3bd9228",
   "metadata": {
    "id": "d6afa16c-855f-452a-9bbc-05fdc3bd9228"
   },
   "outputs": [],
   "source": [
    "# Create keras text Vectorization layer\n",
    "sequence_vectorizer = tf.keras.layers.TextVectorization(\n",
    "    standardize=\"lower_and_strip_punctuation\",\n",
    "    output_mode=\"int\",\n",
    "    output_sequence_length=SEQUENCE_LENGTH\n",
    ")"
   ]
  },
  {
   "cell_type": "code",
   "execution_count": 55,
   "id": "d49c14e6-2b8a-4ddd-8e35-f29a9e56b069",
   "metadata": {
    "id": "d49c14e6-2b8a-4ddd-8e35-f29a9e56b069"
   },
   "outputs": [],
   "source": [
    "# Fit/Adapt the text vectorization layer on the training texts.\n",
    "sequence_vectorizer.adapt(ds_texts)"
   ]
  },
  {
   "cell_type": "code",
   "execution_count": 56,
   "id": "53a50168-9825-47d7-82d4-d59a0c28a96a",
   "metadata": {
    "id": "53a50168-9825-47d7-82d4-d59a0c28a96a"
   },
   "outputs": [],
   "source": [
    "# Save the vocabulary size from the layer to use in your models' Embedding layer.\n",
    "VOCAB_SIZE = sequence_vectorizer.vocabulary_size()"
   ]
  },
  {
   "cell_type": "code",
   "execution_count": 57,
   "id": "5ce371ff-867b-4479-a2b5-7685d6980a9b",
   "metadata": {
    "id": "5ce371ff-867b-4479-a2b5-7685d6980a9b",
    "outputId": "3763e7d3-5d60-4522-c09b-8d51a5535df0"
   },
   "outputs": [
    {
     "data": {
      "text/plain": [
       "array([0, 1])"
      ]
     },
     "execution_count": 57,
     "metadata": {},
     "output_type": "execute_result"
    }
   ],
   "source": [
    "# unique classes\n",
    "classes = y.unique()\n",
    "classes"
   ]
  },
  {
   "cell_type": "markdown",
   "id": "c436562c-1ed4-4f7c-9ab8-78ff4a52a87b",
   "metadata": {
    "id": "c436562c-1ed4-4f7c-9ab8-78ff4a52a87b"
   },
   "source": [
    "#### RNN"
   ]
  },
  {
   "cell_type": "code",
   "execution_count": 58,
   "id": "737ae0dc-4d91-4eee-944b-689da0966e84",
   "metadata": {
    "id": "737ae0dc-4d91-4eee-944b-689da0966e84"
   },
   "outputs": [],
   "source": [
    "# Function - using the model that performed best in core projects\n",
    "def build_gru_model_bi_pool(text_vectorization_layer):\n",
    "\n",
    "    gru_model_bi_pool = Sequential([\n",
    "        text_vectorization_layer,\n",
    "        layers.Embedding(input_dim=VOCAB_SIZE,\n",
    "                      output_dim=EMBED_DIM,\n",
    "                      input_length=SEQUENCE_LENGTH)])\n",
    "\n",
    "    # Add bidirectional component to GRU layer\n",
    "    gru_model_bi_pool.add(layers.Bidirectional(layers.GRU(64, return_sequences = True)))\n",
    "    gru_model_bi_pool.add(layers.Dropout(.2))\n",
    "    gru_model_bi_pool.add(layers.Bidirectional(layers.GRU(32, return_sequences = True)))\n",
    "    # Add a pooling layer *new\n",
    "    gru_model_bi_pool.add(layers.GlobalMaxPooling1D())\n",
    "\n",
    "    # Output layer\n",
    "    gru_model_bi_pool.add(layers.Dense(len(classes), activation='softmax'))\n",
    "\n",
    "    optimizer = optimizers.legacy.Adam()\n",
    "    gru_model_bi_pool.compile(optimizer=optimizer,\n",
    "                  loss='sparse_categorical_crossentropy', metrics=['accuracy'])\n",
    "    gru_model_bi_pool.summary()\n",
    "    return gru_model_bi_pool"
   ]
  },
  {
   "cell_type": "code",
   "execution_count": 61,
   "id": "d72b9eaf-1188-4203-a7d3-4cdd3fdf1412",
   "metadata": {
    "id": "d72b9eaf-1188-4203-a7d3-4cdd3fdf1412",
    "outputId": "3be7ee43-1da4-47a3-9df2-a7e8e39c7d42"
   },
   "outputs": [
    {
     "name": "stdout",
     "output_type": "stream",
     "text": [
      "Model: \"sequential_2\"\n",
      "_________________________________________________________________\n",
      " Layer (type)                Output Shape              Param #   \n",
      "=================================================================\n",
      " text_vectorization (TextVec  (None, 4017)             0         \n",
      " torization)                                                     \n",
      "                                                                 \n",
      " embedding_2 (Embedding)     (None, 4017, 100)         2492300   \n",
      "                                                                 \n",
      " bidirectional_4 (Bidirectio  (None, 4017, 128)        63744     \n",
      " nal)                                                            \n",
      "                                                                 \n",
      " dropout_2 (Dropout)         (None, 4017, 128)         0         \n",
      "                                                                 \n",
      " bidirectional_5 (Bidirectio  (None, 4017, 64)         31104     \n",
      " nal)                                                            \n",
      "                                                                 \n",
      " global_max_pooling1d_2 (Glo  (None, 64)               0         \n",
      " balMaxPooling1D)                                                \n",
      "                                                                 \n",
      " dense_2 (Dense)             (None, 2)                 130       \n",
      "                                                                 \n",
      "=================================================================\n",
      "Total params: 2,587,278\n",
      "Trainable params: 2,587,278\n",
      "Non-trainable params: 0\n",
      "_________________________________________________________________\n",
      "Epoch 1/30\n",
      "53/53 [==============================] - 341s 6s/step - loss: 0.6826 - accuracy: 0.5505 - val_loss: 0.6536 - val_accuracy: 0.6190\n",
      "Epoch 2/30\n",
      "53/53 [==============================] - 351s 7s/step - loss: 0.4016 - accuracy: 0.8317 - val_loss: 0.3822 - val_accuracy: 0.8282\n",
      "Epoch 3/30\n",
      "53/53 [==============================] - 362s 7s/step - loss: 0.0893 - accuracy: 0.9746 - val_loss: 0.3795 - val_accuracy: 0.8634\n",
      "Epoch 4/30\n",
      "53/53 [==============================] - 363s 7s/step - loss: 0.4113 - accuracy: 0.8352 - val_loss: 0.6498 - val_accuracy: 0.6832\n",
      "Epoch 5/30\n",
      "53/53 [==============================] - 365s 7s/step - loss: 0.2802 - accuracy: 0.8901 - val_loss: 0.6177 - val_accuracy: 0.7826\n",
      "Epoch 6/30\n",
      "53/53 [==============================] - 372s 7s/step - loss: 0.0929 - accuracy: 0.9722 - val_loss: 0.6737 - val_accuracy: 0.8012\n"
     ]
    }
   ],
   "source": [
    "EMBED_DIM = 100\n",
    "#Build the model\n",
    "model = build_gru_model_bi_pool(sequence_vectorizer)\n",
    "# Fit the model\n",
    "EPOCHS = 30\n",
    "history = model.fit(\n",
    "    train_ds,\n",
    "    epochs=EPOCHS,\n",
    "    validation_data=val_ds,\n",
    "    callbacks=fn.get_callbacks(),\n",
    ")"
   ]
  },
  {
   "cell_type": "code",
   "execution_count": 62,
   "id": "af22e88d-cd35-40ce-a023-05cdbc0ac9c8",
   "metadata": {
    "id": "af22e88d-cd35-40ce-a023-05cdbc0ac9c8",
    "outputId": "0967efd9-bee7-46da-a1ca-263b5acd354e"
   },
   "outputs": [
    {
     "data": {
      "image/png": "[encoded data removed]",
      "text/plain": [
       "<Figure size 600x600 with 2 Axes>"
      ]
     },
     "metadata": {},
     "output_type": "display_data"
    },
    {
     "name": "stdout",
     "output_type": "stream",
     "text": [
      "\n",
      "================================================================================\n",
      "- Evaluating Network...\n",
      "================================================================================\n",
      "----------------------------------------------------------------------\n",
      " Classification Metrics: Training Data\n",
      "----------------------------------------------------------------------\n",
      "              precision    recall  f1-score   support\n",
      "\n",
      "           0       0.98      0.92      0.95       856\n",
      "           1       0.92      0.98      0.95       837\n",
      "\n",
      "    accuracy                           0.95      1693\n",
      "   macro avg       0.95      0.95      0.95      1693\n",
      "weighted avg       0.95      0.95      0.95      1693\n",
      "\n"
     ]
    },
    {
     "data": {
      "image/png": "[encoded data removed]",
      "text/plain": [
       "<Figure size 600x400 with 2 Axes>"
      ]
     },
     "metadata": {},
     "output_type": "display_data"
    },
    {
     "name": "stdout",
     "output_type": "stream",
     "text": [
      "\n",
      "- Evaluating Training Data:\n",
      "53/53 [==============================] - 55s 1s/step - loss: 0.1291 - accuracy: 0.9504\n",
      "{'loss': 0.12910829484462738, 'accuracy': 0.9503839612007141}\n",
      "----------------------------------------------------------------------\n",
      " Classification Metrics: Test Data\n",
      "----------------------------------------------------------------------\n",
      "              precision    recall  f1-score   support\n",
      "\n",
      "           0       0.82      0.82      0.82       113\n",
      "           1       0.85      0.85      0.85       130\n",
      "\n",
      "    accuracy                           0.84       243\n",
      "   macro avg       0.83      0.83      0.83       243\n",
      "weighted avg       0.84      0.84      0.84       243\n",
      "\n"
     ]
    },
    {
     "data": {
      "image/png": "[encoded data removed]",
      "text/plain": [
       "<Figure size 600x400 with 2 Axes>"
      ]
     },
     "metadata": {},
     "output_type": "display_data"
    },
    {
     "name": "stdout",
     "output_type": "stream",
     "text": [
      "\n",
      "- Evaluating Test Data:\n",
      "8/8 [==============================] - 7s 865ms/step - loss: 0.6870 - accuracy: 0.8354\n",
      "{'loss': 0.686987578868866, 'accuracy': 0.8353909254074097}\n"
     ]
    }
   ],
   "source": [
    "# Evaluate the model\n",
    "results = fn.evaluate_classification_network(\n",
    "    model, X_train=train_ds,\n",
    "    X_test=test_ds, history=history);"
   ]
  },
  {
   "cell_type": "markdown",
   "id": "55c4bdf5-429c-4201-a2b8-d8bb9a9204ac",
   "metadata": {
    "id": "55c4bdf5-429c-4201-a2b8-d8bb9a9204ac"
   },
   "source": [
    "##### Observations:\n",
    "- Test data accuracy is .84"
   ]
  },
  {
   "cell_type": "code",
   "execution_count": null,
   "id": "08bab61b-231d-4a13-9588-d7c1d3646ad7",
   "metadata": {
    "id": "08bab61b-231d-4a13-9588-d7c1d3646ad7"
   },
   "outputs": [],
   "source": []
  }
 ],
 "metadata": {
  "colab": {
   "provenance": []
  },
  "kernelspec": {
   "display_name": "Python (dojo-env)",
   "language": "python",
   "name": "dojo-env"
  },
  "language_info": {
   "codemirror_mode": {
    "name": "ipython",
    "version": 3
   },
   "file_extension": ".py",
   "mimetype": "text/x-python",
   "name": "python",
   "nbconvert_exporter": "python",
   "pygments_lexer": "ipython3",
   "version": "3.10.10"
  },
  "widgets": {
   "application/vnd.jupyter.widget-state+json": {
    "state": {},
    "version_major": 2,
    "version_minor": 0
   }
  }
 },
 "nbformat": 4,
 "nbformat_minor": 5
}
