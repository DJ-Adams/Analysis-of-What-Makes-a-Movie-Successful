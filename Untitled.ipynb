{
 "cells": [
  {
   "cell_type": "markdown",
   "id": "f14c4e95-b930-4e7b-bf5a-52ef6b79eb4e",
   "metadata": {},
   "source": [
    "# Part 3A - EDA\n",
    "- Darlene Adams"
   ]
  },
  {
   "cell_type": "code",
   "execution_count": 11,
   "id": "368b1a0c-dce5-42c7-bce2-2df6fadd8475",
   "metadata": {},
   "outputs": [],
   "source": [
    "# Imports\n",
    "import numpy as np\n",
    "import pandas as pd\n",
    "pd.set_option('display.max_columns',50)\n",
    "import missingno as msno\n",
    "import seaborn as sns\n",
    "import matplotlib.pyplot as plt\n",
    "import os, json, math, time\n",
    "from tqdm.notebook import tqdm_notebook\n",
    "import glob\n",
    "import tmdbsimple as tmdb\n",
    "import sqlalchemy\n",
    "from sqlalchemy import create_engine\n",
    "import pymysql\n",
    "pymysql.install_as_MySQLdb()"
   ]
  },
  {
   "cell_type": "code",
   "execution_count": 25,
   "id": "ab894693-19cb-4928-904a-2e4756b8781b",
   "metadata": {},
   "outputs": [
    {
     "data": {
      "text/plain": [
       "['Data\\\\final_tmdb_data_2001.csv.gz', 'Data\\\\final_tmdb_data_2002.csv.gz']"
      ]
     },
     "execution_count": 25,
     "metadata": {},
     "output_type": "execute_result"
    }
   ],
   "source": [
    "import glob\n",
    "q = \"Data/final_tmdb_data*.csv.gz\"\n",
    "year_files = glob.glob(q)\n",
    "# Show files\n",
    "year_files"
   ]
  },
  {
   "cell_type": "code",
   "execution_count": 24,
   "id": "46a90c6c-d636-480f-85b8-b38d0a4ff492",
   "metadata": {},
   "outputs": [
    {
     "data": {
      "text/html": [
       "<div>\n",
       "<style scoped>\n",
       "    .dataframe tbody tr th:only-of-type {\n",
       "        vertical-align: middle;\n",
       "    }\n",
       "\n",
       "    .dataframe tbody tr th {\n",
       "        vertical-align: top;\n",
       "    }\n",
       "\n",
       "    .dataframe thead th {\n",
       "        text-align: right;\n",
       "    }\n",
       "</style>\n",
       "<table border=\"1\" class=\"dataframe\">\n",
       "  <thead>\n",
       "    <tr style=\"text-align: right;\">\n",
       "      <th></th>\n",
       "    </tr>\n",
       "    <tr>\n",
       "      <th>imdb_id</th>\n",
       "    </tr>\n",
       "  </thead>\n",
       "  <tbody>\n",
       "    <tr>\n",
       "      <th>0</th>\n",
       "    </tr>\n",
       "    <tr>\n",
       "      <th>0</th>\n",
       "    </tr>\n",
       "  </tbody>\n",
       "</table>\n",
       "</div>"
      ],
      "text/plain": [
       "Empty DataFrame\n",
       "Columns: []\n",
       "Index: [0, 0]"
      ]
     },
     "execution_count": 24,
     "metadata": {},
     "output_type": "execute_result"
    }
   ],
   "source": [
    "## Loading all files as df and appending to a list\n",
    "df_list = []\n",
    "for file in year_files:\n",
    "    temp_df = pd.read_csv(file, sep='\\t', index_col=0)\n",
    "    df_list.append(temp_df)\n",
    "    \n",
    "## Concatenating the list of dfs into 1 combined\n",
    "df_combined = pd.concat(df_list)\n",
    "df_combined"
   ]
  },
  {
   "cell_type": "code",
   "execution_count": 28,
   "id": "2866d446-2c9b-4315-bfcd-ca25c878fa1a",
   "metadata": {},
   "outputs": [
    {
     "data": {
      "text/plain": [
       "['Data\\\\final_tmdb_data_2001.csv.gz', 'Data\\\\final_tmdb_data_2002.csv.gz']"
      ]
     },
     "execution_count": 28,
     "metadata": {},
     "output_type": "execute_result"
    }
   ],
   "source": [
    "# Use glob to get all filepaths that match the pattern (*=wildcard)\n",
    "tmdb_files = (glob.glob(\"Data/final_tmdb_data*.csv.gz\"))\n",
    "tmdb_files"
   ]
  },
  {
   "cell_type": "code",
   "execution_count": 29,
   "id": "1ff85a77-9086-4c7f-8149-3f64c496839d",
   "metadata": {},
   "outputs": [
    {
     "data": {
      "text/html": [
       "<div>\n",
       "<style scoped>\n",
       "    .dataframe tbody tr th:only-of-type {\n",
       "        vertical-align: middle;\n",
       "    }\n",
       "\n",
       "    .dataframe tbody tr th {\n",
       "        vertical-align: top;\n",
       "    }\n",
       "\n",
       "    .dataframe thead th {\n",
       "        text-align: right;\n",
       "    }\n",
       "</style>\n",
       "<table border=\"1\" class=\"dataframe\">\n",
       "  <thead>\n",
       "    <tr style=\"text-align: right;\">\n",
       "      <th></th>\n",
       "      <th>imdb_id</th>\n",
       "    </tr>\n",
       "  </thead>\n",
       "  <tbody>\n",
       "    <tr>\n",
       "      <th>0</th>\n",
       "      <td>0</td>\n",
       "    </tr>\n",
       "    <tr>\n",
       "      <th>0</th>\n",
       "      <td>0</td>\n",
       "    </tr>\n",
       "  </tbody>\n",
       "</table>\n",
       "</div>"
      ],
      "text/plain": [
       "   imdb_id\n",
       "0        0\n",
       "0        0"
      ]
     },
     "execution_count": 29,
     "metadata": {},
     "output_type": "execute_result"
    }
   ],
   "source": [
    "# Use read_csv in a list comprehension and combine with concat to load all files\n",
    "mdf = pd.concat([pd.read_csv(f) for f in tmdb_files] )\n",
    "mdf.head()"
   ]
  },
  {
   "cell_type": "code",
   "execution_count": 31,
   "id": "e46be544-c4c3-47c9-af92-c78c06a4d036",
   "metadata": {},
   "outputs": [
    {
     "name": "stdout",
     "output_type": "stream",
     "text": [
      "<class 'pandas.core.frame.DataFrame'>\n",
      "Int64Index: 2 entries, 0 to 0\n",
      "Data columns (total 1 columns):\n",
      " #   Column   Non-Null Count  Dtype\n",
      "---  ------   --------------  -----\n",
      " 0   imdb_id  2 non-null      int64\n",
      "dtypes: int64(1)\n",
      "memory usage: 32.0 bytes\n"
     ]
    }
   ],
   "source": [
    "mdf.info()"
   ]
  },
  {
   "cell_type": "code",
   "execution_count": null,
   "id": "642398d8-3e31-4e30-a50f-c251d33e48dd",
   "metadata": {},
   "outputs": [],
   "source": [
    "mdf.describe()"
   ]
  },
  {
   "cell_type": "code",
   "execution_count": null,
   "id": "467705c3-28a7-4599-b5d7-0235cc760ed0",
   "metadata": {},
   "outputs": [],
   "source": [
    "mdf['budget'].value_counts()"
   ]
  },
  {
   "cell_type": "markdown",
   "id": "e3a34357-1ed7-4584-a8d1-dc38c48012a1",
   "metadata": {},
   "source": [
    "How many movies had at least some valid financial information (values > 0 for budget OR revenue)?\n",
    "Please exclude any movies with 0's for budget AND revenue from the remaining visualizations."
   ]
  },
  {
   "cell_type": "code",
   "execution_count": null,
   "id": "1815779d-3c38-415e-8e45-b89e878be9ec",
   "metadata": {},
   "outputs": [],
   "source": [
    "mdf_budget.value_counts()"
   ]
  },
  {
   "cell_type": "code",
   "execution_count": null,
   "id": "6fb67a7b-e72b-494f-bfea-ef5fbd7c3256",
   "metadata": {},
   "outputs": [],
   "source": [
    "mdf_rev.value_counts()"
   ]
  },
  {
   "cell_type": "code",
   "execution_count": null,
   "id": "55fd268a-835f-42eb-b474-3359ee371437",
   "metadata": {},
   "outputs": [],
   "source": [
    "# function\n",
    "def plot_categorical_vs_target(df, x, y, dmin, dmax, ylbl, figsize=(6,4),\n",
    "                            fillna = True, placeholder = 'MISSING',\n",
    "                            order = None, ):\n",
    "  # Make a copy of the dataframe and fillna \n",
    "  temp_df = df.copy()\n",
    "  # fillna with placeholder\n",
    "  if fillna == True:\n",
    "    temp_df[x] = temp_df[x].fillna(placeholder)\n",
    "  \n",
    "  # or drop nulls prevent unwanted 'nan' group in stripplot\n",
    "  else:\n",
    "    temp_df = temp_df.dropna(subset=[x]) \n",
    "  # Create the figure and subplots\n",
    "  fig, ax = plt.subplots(figsize=(6,4))\n",
    "  \n",
    "    # Barplot \n",
    "  sns.barplot(data=temp_df, x=x, y=y, ax=ax, order=order, alpha=0.6,\n",
    "              linewidth=1, edgecolor='black', errorbar=None)\n",
    "  \n",
    "  # Boxplot\n",
    "  sns.stripplot(data=temp_df, x=x, y=y, hue=x, ax=ax, \n",
    "                order=order, hue_order=order, legend=False,\n",
    "                edgecolor='white', linewidth=0.5,\n",
    "                size=3,zorder=0)\n",
    "  # Rotate xlabels\n",
    "  ax.set_xticklabels(ax.get_xticklabels(), rotation=45, ha='right')\n",
    "  ax.set_yticklabels(ylbl)\n",
    "\n",
    "  ax.set_ylim(dmin, dmax)  \n",
    "  \n",
    "  # Add a title\n",
    "  ax.set_title(f\"{x} vs. {y}\")\n",
    "  fig.tight_layout()\n",
    "  return fig, ax"
   ]
  },
  {
   "cell_type": "code",
   "execution_count": null,
   "id": "cfeafb39-80c5-4347-adff-e89fb1c27444",
   "metadata": {},
   "outputs": [],
   "source": [
    "def count_plot(data,col):\n",
    "    ord = data[col].value_counts().index\n",
    "    col_name = col.replace(\"_\",\" \")\n",
    "    g = sns.countplot(data=data, x=col, order=ord)\n",
    "    g.set(title=f'Count of {col_name}', xlabel=col_name, ylabel=\"Count\");\n",
    "    plt.xticks(rotati"
   ]
  },
  {
   "cell_type": "code",
   "execution_count": null,
   "id": "9dd08671-b14f-4e9a-963e-3dd32f3c8bad",
   "metadata": {},
   "outputs": [],
   "source": [
    "# Setting financial information \n",
    "df = years\n",
    "df.info()"
   ]
  },
  {
   "cell_type": "code",
   "execution_count": null,
   "id": "c4e9dfd0-8cf5-484e-8d3b-71277deda08e",
   "metadata": {},
   "outputs": [],
   "source": [
    "drop_filter = df.query('budget <= 0 & revenue <= 0 ')\n",
    "drop_filter.head(3)"
   ]
  },
  {
   "cell_type": "code",
   "execution_count": null,
   "id": "95e8bba6-0a85-40d1-94b2-ed1eee9f1de3",
   "metadata": {},
   "outputs": [],
   "source": [
    "df.drop(drop_filter.index, inplace=True)"
   ]
  },
  {
   "cell_type": "code",
   "execution_count": null,
   "id": "eea21eaa-1635-40b4-a946-50d97e41414a",
   "metadata": {},
   "outputs": [],
   "source": [
    "df.info()"
   ]
  }
 ],
 "metadata": {
  "kernelspec": {
   "display_name": "Python (dojo-env)",
   "language": "python",
   "name": "dojo-env"
  },
  "language_info": {
   "codemirror_mode": {
    "name": "ipython",
    "version": 3
   },
   "file_extension": ".py",
   "mimetype": "text/x-python",
   "name": "python",
   "nbconvert_exporter": "python",
   "pygments_lexer": "ipython3",
   "version": "3.10.10"
  },
  "widgets": {
   "application/vnd.jupyter.widget-state+json": {
    "state": {},
    "version_major": 2,
    "version_minor": 0
   }
  }
 },
 "nbformat": 4,
 "nbformat_minor": 5
}
